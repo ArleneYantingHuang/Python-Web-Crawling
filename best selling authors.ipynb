{
 "cells": [
  {
   "cell_type": "code",
   "execution_count": 151,
   "metadata": {
    "ExecuteTime": {
     "end_time": "2021-01-24T21:50:59.379527Z",
     "start_time": "2021-01-24T21:50:58.327431Z"
    }
   },
   "outputs": [],
   "source": [
    "# import packages\n",
    "from time import sleep\n",
    "from selenium import webdriver\n",
    "from selenium.webdriver.common.desired_capabilities import DesiredCapabilities\n",
    "from selenium.webdriver.support.ui import WebDriverWait\n",
    "import pandas as pd"
   ]
  },
  {
   "cell_type": "code",
   "execution_count": 437,
   "metadata": {
    "ExecuteTime": {
     "end_time": "2021-01-25T00:15:45.848560Z",
     "start_time": "2021-01-25T00:15:40.446077Z"
    },
    "scrolled": true
   },
   "outputs": [
    {
     "ename": "ElementNotInteractableException",
     "evalue": "Message: element not interactable\n  (Session info: chrome=87.0.4280.141)\n",
     "output_type": "error",
     "traceback": [
      "\u001b[0;31m---------------------------------------------------------------------------\u001b[0m",
      "\u001b[0;31mElementNotInteractableException\u001b[0m           Traceback (most recent call last)",
      "\u001b[0;32m<ipython-input-437-6356fe152c46>\u001b[0m in \u001b[0;36m<module>\u001b[0;34m\u001b[0m\n\u001b[1;32m      6\u001b[0m \u001b[0mdriver\u001b[0m\u001b[0;34m.\u001b[0m\u001b[0mfind_element_by_name\u001b[0m\u001b[0;34m(\u001b[0m\u001b[0;34m'q'\u001b[0m\u001b[0;34m)\u001b[0m\u001b[0;34m.\u001b[0m\u001b[0msend_keys\u001b[0m\u001b[0;34m(\u001b[0m\u001b[0;34m'best selling autonomous car books'\u001b[0m\u001b[0;34m)\u001b[0m\u001b[0;34m\u001b[0m\u001b[0;34m\u001b[0m\u001b[0m\n\u001b[1;32m      7\u001b[0m \u001b[0msleep\u001b[0m\u001b[0;34m(\u001b[0m\u001b[0;36m0.5\u001b[0m\u001b[0;34m)\u001b[0m\u001b[0;34m\u001b[0m\u001b[0;34m\u001b[0m\u001b[0m\n\u001b[0;32m----> 8\u001b[0;31m \u001b[0mdriver\u001b[0m\u001b[0;34m.\u001b[0m\u001b[0mfind_element_by_class_name\u001b[0m\u001b[0;34m(\u001b[0m\u001b[0;34m'gNO89b'\u001b[0m\u001b[0;34m)\u001b[0m\u001b[0;34m.\u001b[0m\u001b[0mclick\u001b[0m\u001b[0;34m(\u001b[0m\u001b[0;34m)\u001b[0m\u001b[0;34m\u001b[0m\u001b[0;34m\u001b[0m\u001b[0m\n\u001b[0m\u001b[1;32m      9\u001b[0m \u001b[0murl\u001b[0m \u001b[0;34m=\u001b[0m \u001b[0mdriver\u001b[0m\u001b[0;34m.\u001b[0m\u001b[0mcurrent_url\u001b[0m\u001b[0;34m\u001b[0m\u001b[0;34m\u001b[0m\u001b[0m\n",
      "\u001b[0;32m/Library/Frameworks/Python.framework/Versions/3.8/lib/python3.8/site-packages/selenium/webdriver/remote/webelement.py\u001b[0m in \u001b[0;36mclick\u001b[0;34m(self)\u001b[0m\n\u001b[1;32m     78\u001b[0m     \u001b[0;32mdef\u001b[0m \u001b[0mclick\u001b[0m\u001b[0;34m(\u001b[0m\u001b[0mself\u001b[0m\u001b[0;34m)\u001b[0m\u001b[0;34m:\u001b[0m\u001b[0;34m\u001b[0m\u001b[0;34m\u001b[0m\u001b[0m\n\u001b[1;32m     79\u001b[0m         \u001b[0;34m\"\"\"Clicks the element.\"\"\"\u001b[0m\u001b[0;34m\u001b[0m\u001b[0;34m\u001b[0m\u001b[0m\n\u001b[0;32m---> 80\u001b[0;31m         \u001b[0mself\u001b[0m\u001b[0;34m.\u001b[0m\u001b[0m_execute\u001b[0m\u001b[0;34m(\u001b[0m\u001b[0mCommand\u001b[0m\u001b[0;34m.\u001b[0m\u001b[0mCLICK_ELEMENT\u001b[0m\u001b[0;34m)\u001b[0m\u001b[0;34m\u001b[0m\u001b[0;34m\u001b[0m\u001b[0m\n\u001b[0m\u001b[1;32m     81\u001b[0m \u001b[0;34m\u001b[0m\u001b[0m\n\u001b[1;32m     82\u001b[0m     \u001b[0;32mdef\u001b[0m \u001b[0msubmit\u001b[0m\u001b[0;34m(\u001b[0m\u001b[0mself\u001b[0m\u001b[0;34m)\u001b[0m\u001b[0;34m:\u001b[0m\u001b[0;34m\u001b[0m\u001b[0;34m\u001b[0m\u001b[0m\n",
      "\u001b[0;32m/Library/Frameworks/Python.framework/Versions/3.8/lib/python3.8/site-packages/selenium/webdriver/remote/webelement.py\u001b[0m in \u001b[0;36m_execute\u001b[0;34m(self, command, params)\u001b[0m\n\u001b[1;32m    631\u001b[0m             \u001b[0mparams\u001b[0m \u001b[0;34m=\u001b[0m \u001b[0;34m{\u001b[0m\u001b[0;34m}\u001b[0m\u001b[0;34m\u001b[0m\u001b[0;34m\u001b[0m\u001b[0m\n\u001b[1;32m    632\u001b[0m         \u001b[0mparams\u001b[0m\u001b[0;34m[\u001b[0m\u001b[0;34m'id'\u001b[0m\u001b[0;34m]\u001b[0m \u001b[0;34m=\u001b[0m \u001b[0mself\u001b[0m\u001b[0;34m.\u001b[0m\u001b[0m_id\u001b[0m\u001b[0;34m\u001b[0m\u001b[0;34m\u001b[0m\u001b[0m\n\u001b[0;32m--> 633\u001b[0;31m         \u001b[0;32mreturn\u001b[0m \u001b[0mself\u001b[0m\u001b[0;34m.\u001b[0m\u001b[0m_parent\u001b[0m\u001b[0;34m.\u001b[0m\u001b[0mexecute\u001b[0m\u001b[0;34m(\u001b[0m\u001b[0mcommand\u001b[0m\u001b[0;34m,\u001b[0m \u001b[0mparams\u001b[0m\u001b[0;34m)\u001b[0m\u001b[0;34m\u001b[0m\u001b[0;34m\u001b[0m\u001b[0m\n\u001b[0m\u001b[1;32m    634\u001b[0m \u001b[0;34m\u001b[0m\u001b[0m\n\u001b[1;32m    635\u001b[0m     \u001b[0;32mdef\u001b[0m \u001b[0mfind_element\u001b[0m\u001b[0;34m(\u001b[0m\u001b[0mself\u001b[0m\u001b[0;34m,\u001b[0m \u001b[0mby\u001b[0m\u001b[0;34m=\u001b[0m\u001b[0mBy\u001b[0m\u001b[0;34m.\u001b[0m\u001b[0mID\u001b[0m\u001b[0;34m,\u001b[0m \u001b[0mvalue\u001b[0m\u001b[0;34m=\u001b[0m\u001b[0;32mNone\u001b[0m\u001b[0;34m)\u001b[0m\u001b[0;34m:\u001b[0m\u001b[0;34m\u001b[0m\u001b[0;34m\u001b[0m\u001b[0m\n",
      "\u001b[0;32m/Library/Frameworks/Python.framework/Versions/3.8/lib/python3.8/site-packages/selenium/webdriver/remote/webdriver.py\u001b[0m in \u001b[0;36mexecute\u001b[0;34m(self, driver_command, params)\u001b[0m\n\u001b[1;32m    319\u001b[0m         \u001b[0mresponse\u001b[0m \u001b[0;34m=\u001b[0m \u001b[0mself\u001b[0m\u001b[0;34m.\u001b[0m\u001b[0mcommand_executor\u001b[0m\u001b[0;34m.\u001b[0m\u001b[0mexecute\u001b[0m\u001b[0;34m(\u001b[0m\u001b[0mdriver_command\u001b[0m\u001b[0;34m,\u001b[0m \u001b[0mparams\u001b[0m\u001b[0;34m)\u001b[0m\u001b[0;34m\u001b[0m\u001b[0;34m\u001b[0m\u001b[0m\n\u001b[1;32m    320\u001b[0m         \u001b[0;32mif\u001b[0m \u001b[0mresponse\u001b[0m\u001b[0;34m:\u001b[0m\u001b[0;34m\u001b[0m\u001b[0;34m\u001b[0m\u001b[0m\n\u001b[0;32m--> 321\u001b[0;31m             \u001b[0mself\u001b[0m\u001b[0;34m.\u001b[0m\u001b[0merror_handler\u001b[0m\u001b[0;34m.\u001b[0m\u001b[0mcheck_response\u001b[0m\u001b[0;34m(\u001b[0m\u001b[0mresponse\u001b[0m\u001b[0;34m)\u001b[0m\u001b[0;34m\u001b[0m\u001b[0;34m\u001b[0m\u001b[0m\n\u001b[0m\u001b[1;32m    322\u001b[0m             response['value'] = self._unwrap_value(\n\u001b[1;32m    323\u001b[0m                 response.get('value', None))\n",
      "\u001b[0;32m/Library/Frameworks/Python.framework/Versions/3.8/lib/python3.8/site-packages/selenium/webdriver/remote/errorhandler.py\u001b[0m in \u001b[0;36mcheck_response\u001b[0;34m(self, response)\u001b[0m\n\u001b[1;32m    240\u001b[0m                 \u001b[0malert_text\u001b[0m \u001b[0;34m=\u001b[0m \u001b[0mvalue\u001b[0m\u001b[0;34m[\u001b[0m\u001b[0;34m'alert'\u001b[0m\u001b[0;34m]\u001b[0m\u001b[0;34m.\u001b[0m\u001b[0mget\u001b[0m\u001b[0;34m(\u001b[0m\u001b[0;34m'text'\u001b[0m\u001b[0;34m)\u001b[0m\u001b[0;34m\u001b[0m\u001b[0;34m\u001b[0m\u001b[0m\n\u001b[1;32m    241\u001b[0m             \u001b[0;32mraise\u001b[0m \u001b[0mexception_class\u001b[0m\u001b[0;34m(\u001b[0m\u001b[0mmessage\u001b[0m\u001b[0;34m,\u001b[0m \u001b[0mscreen\u001b[0m\u001b[0;34m,\u001b[0m \u001b[0mstacktrace\u001b[0m\u001b[0;34m,\u001b[0m \u001b[0malert_text\u001b[0m\u001b[0;34m)\u001b[0m\u001b[0;34m\u001b[0m\u001b[0;34m\u001b[0m\u001b[0m\n\u001b[0;32m--> 242\u001b[0;31m         \u001b[0;32mraise\u001b[0m \u001b[0mexception_class\u001b[0m\u001b[0;34m(\u001b[0m\u001b[0mmessage\u001b[0m\u001b[0;34m,\u001b[0m \u001b[0mscreen\u001b[0m\u001b[0;34m,\u001b[0m \u001b[0mstacktrace\u001b[0m\u001b[0;34m)\u001b[0m\u001b[0;34m\u001b[0m\u001b[0;34m\u001b[0m\u001b[0m\n\u001b[0m\u001b[1;32m    243\u001b[0m \u001b[0;34m\u001b[0m\u001b[0m\n\u001b[1;32m    244\u001b[0m     \u001b[0;32mdef\u001b[0m \u001b[0m_value_or_default\u001b[0m\u001b[0;34m(\u001b[0m\u001b[0mself\u001b[0m\u001b[0;34m,\u001b[0m \u001b[0mobj\u001b[0m\u001b[0;34m,\u001b[0m \u001b[0mkey\u001b[0m\u001b[0;34m,\u001b[0m \u001b[0mdefault\u001b[0m\u001b[0;34m)\u001b[0m\u001b[0;34m:\u001b[0m\u001b[0;34m\u001b[0m\u001b[0;34m\u001b[0m\u001b[0m\n",
      "\u001b[0;31mElementNotInteractableException\u001b[0m: Message: element not interactable\n  (Session info: chrome=87.0.4280.141)\n"
     ]
    }
   ],
   "source": [
    "# open driver and website\n",
    "\n",
    "driver = webdriver.Chrome('/Applications/chromedriver')\n",
    "driver.get('https://www.google.com/')\n",
    "sleep(0.5)\n",
    "driver.find_element_by_name('q').send_keys('best selling autonomous car books')\n",
    "sleep(0.5)\n",
    "driver.find_element_by_class_name('gNO89b').click()\n",
    "url = driver.current_url"
   ]
  },
  {
   "cell_type": "code",
   "execution_count": 438,
   "metadata": {
    "ExecuteTime": {
     "end_time": "2021-01-25T00:16:27.168161Z",
     "start_time": "2021-01-25T00:16:27.163559Z"
    }
   },
   "outputs": [],
   "source": [
    "url = 'https://www.google.com/search?ei=xw0OYLD6B6Ll5NoPgfGiqAs&q=best+selling+smart+city+book&oq=best+selling+smart+city+book&gs_lcp=CgZwc3ktYWIQAzoECAAQRzoGCAAQBxAeOggIABAIEAcQHjoICAAQBxAKEB46AggAOgUIABCxAzoGCAAQDRAeOggIABAIEA0QHlD4I1jrNWCZOGgBcAZ4AIABVIgB0waSAQIxM5gBAKABAaoBB2d3cy13aXrIAQjAAQE&sclient=psy-ab&ved=0ahUKEwjw-e6N57XuAhWiMlkFHYG4CLUQ4dUDCA0&uact=5'"
   ]
  },
  {
   "cell_type": "code",
   "execution_count": 439,
   "metadata": {
    "ExecuteTime": {
     "end_time": "2021-01-25T00:16:28.257573Z",
     "start_time": "2021-01-25T00:16:28.243155Z"
    }
   },
   "outputs": [],
   "source": [
    "df = pd.DataFrame(columns=['bookurl','authorurl','twittername'])\n",
    "df1 = pd.DataFrame(columns=['Book','Originally published','Author','Authors','Genre','BookIntro','ISBN','Nominations','Page count','Publisher','OCLC','Description','PublishDate','Goodreads','Audible.com','Barnes & Noble'])\n"
   ]
  },
  {
   "cell_type": "code",
   "execution_count": 440,
   "metadata": {
    "ExecuteTime": {
     "end_time": "2021-01-25T00:17:05.375466Z",
     "start_time": "2021-01-25T00:16:28.959083Z"
    },
    "scrolled": true
   },
   "outputs": [],
   "source": [
    "for i in range(20):\n",
    "    driver.get(url)\n",
    "    bookurl = ''\n",
    "    authorurl = ''\n",
    "    twittername = ''\n",
    "    try:\n",
    "        bookurl = driver.find_elements_by_xpath('//a[@class=\"ct5Ked klitem-tr PZPZlf\"]')[i].get_attribute('href')\n",
    "        try:\n",
    "            #get book info\n",
    "            driver.find_elements_by_xpath('//a[@class=\"ct5Ked klitem-tr PZPZlf\"]')[i].click()\n",
    "            df1.loc[i] = ''\n",
    "            book = driver.find_element_by_xpath('//h2[@class=\"qrShPb kno-ecr-pt PZPZlf mfMhoc hNKfZe\"]/span').get_attribute('innerHTML')\n",
    "            df1['Book'][i] = book\n",
    "            try:\n",
    "                for j,item in enumerate(driver.find_elements_by_xpath('//a[@class=\"NY3LVe\"]/span')):\n",
    "                    if j%2==1:\n",
    "                        df1[item.get_attribute('innerHTML').replace('&amp;','&')][i] = driver.find_elements_by_xpath('//a[@class=\"NY3LVe\"]/span')[(j-1)].get_attribute('innerHTML')\n",
    "            except:\n",
    "                pass\n",
    "            try:\n",
    "                intro = driver.find_element_by_xpath('//div[@class=\"kno-rdesc\"]/div/span').get_attribute('innerHTML')\n",
    "                df1['BookIntro'][i] = intro\n",
    "            except:\n",
    "                pass\n",
    "            try:\n",
    "                for m,item in enumerate(driver.find_elements_by_xpath('//span[@class=\"GRkHZd w8qArf\"]')):\n",
    "                    col = item.get_attribute('innerHTML').split('>')[1].split('<')[0].replace('&amp;','&')\n",
    "                    s = driver.find_elements_by_xpath('//span[@class=\"Eq0J8 LrzXr kno-fv\"]')[m].get_attribute('innerHTML').split('>')\n",
    "                    if len(s)>1:\n",
    "                        content = s[len(s)-2].split('<')[0].replace('&amp;','&')\n",
    "                    else:\n",
    "                        content = s[0]\n",
    "                    try:\n",
    "                        df1[col][i] = content\n",
    "                    except:\n",
    "                        pass\n",
    "            except:\n",
    "                pass\n",
    "            authorurl = driver.find_elements_by_xpath('//span[@class=\"Eq0J8 LrzXr kno-fv\"]/a')[0].get_attribute('href')\n",
    "            try:\n",
    "                #get author info\n",
    "                driver.find_elements_by_xpath('//span[@class=\"Eq0J8 LrzXr kno-fv\"]/a')[0].click()\n",
    "                \n",
    "                twittername = driver.find_element_by_xpath('//g-link[@class=\"fl\"]/a').get_attribute('href')[20:1000].split('?')[0]\n",
    "            except:\n",
    "                pass\n",
    "        except:\n",
    "            pass\n",
    "    except:\n",
    "        pass\n",
    "    line = [bookurl,authorurl,twittername]\n",
    "    df.loc[i] = line"
   ]
  },
  {
   "cell_type": "code",
   "execution_count": 441,
   "metadata": {
    "ExecuteTime": {
     "end_time": "2021-01-25T00:17:05.423487Z",
     "start_time": "2021-01-25T00:17:05.377810Z"
    },
    "scrolled": true
   },
   "outputs": [
    {
     "data": {
      "text/html": [
       "<div>\n",
       "<style scoped>\n",
       "    .dataframe tbody tr th:only-of-type {\n",
       "        vertical-align: middle;\n",
       "    }\n",
       "\n",
       "    .dataframe tbody tr th {\n",
       "        vertical-align: top;\n",
       "    }\n",
       "\n",
       "    .dataframe thead th {\n",
       "        text-align: right;\n",
       "    }\n",
       "</style>\n",
       "<table border=\"1\" class=\"dataframe\">\n",
       "  <thead>\n",
       "    <tr style=\"text-align: right;\">\n",
       "      <th></th>\n",
       "      <th>Book</th>\n",
       "      <th>Originally published</th>\n",
       "      <th>Author</th>\n",
       "      <th>Authors</th>\n",
       "      <th>Genre</th>\n",
       "      <th>BookIntro</th>\n",
       "      <th>ISBN</th>\n",
       "      <th>Nominations</th>\n",
       "      <th>Page count</th>\n",
       "      <th>Publisher</th>\n",
       "      <th>OCLC</th>\n",
       "      <th>Description</th>\n",
       "      <th>PublishDate</th>\n",
       "      <th>Goodreads</th>\n",
       "      <th>Audible.com</th>\n",
       "      <th>Barnes &amp; Noble</th>\n",
       "      <th>bookurl</th>\n",
       "      <th>authorurl</th>\n",
       "      <th>twittername</th>\n",
       "    </tr>\n",
       "  </thead>\n",
       "  <tbody>\n",
       "    <tr>\n",
       "      <th>0</th>\n",
       "      <td>Deepfakes: The Coming Infocalypse</td>\n",
       "      <td>August 25, 2020</td>\n",
       "      <td>Nina Schick</td>\n",
       "      <td></td>\n",
       "      <td></td>\n",
       "      <td>Everything you need to know about \"deepfakes\" ...</td>\n",
       "      <td></td>\n",
       "      <td></td>\n",
       "      <td></td>\n",
       "      <td></td>\n",
       "      <td></td>\n",
       "      <td></td>\n",
       "      <td></td>\n",
       "      <td></td>\n",
       "      <td></td>\n",
       "      <td>5/5</td>\n",
       "      <td>https://www.google.com/search?q=Deepfakes:+The...</td>\n",
       "      <td>https://www.google.com/search?sa=X&amp;biw=957&amp;bih...</td>\n",
       "      <td>ninadschick</td>\n",
       "    </tr>\n",
       "    <tr>\n",
       "      <th>1</th>\n",
       "      <td>Demystifying Smart Cities: Practical Perspecti...</td>\n",
       "      <td>December 9, 2019</td>\n",
       "      <td>Anders Lisdorf</td>\n",
       "      <td></td>\n",
       "      <td></td>\n",
       "      <td>The concept of Smart Cities is accurately rega...</td>\n",
       "      <td></td>\n",
       "      <td></td>\n",
       "      <td></td>\n",
       "      <td></td>\n",
       "      <td></td>\n",
       "      <td></td>\n",
       "      <td></td>\n",
       "      <td></td>\n",
       "      <td></td>\n",
       "      <td></td>\n",
       "      <td>https://www.google.com/search?q=Demystifying+S...</td>\n",
       "      <td>https://www.google.com/search?sa=X&amp;biw=957&amp;bih...</td>\n",
       "      <td></td>\n",
       "    </tr>\n",
       "    <tr>\n",
       "      <th>2</th>\n",
       "      <td>Rethinking federal housing policy</td>\n",
       "      <td>2011</td>\n",
       "      <td>Edward Glaeser</td>\n",
       "      <td></td>\n",
       "      <td>Reference work</td>\n",
       "      <td>A pioneering urban economist presents a myth-s...</td>\n",
       "      <td></td>\n",
       "      <td></td>\n",
       "      <td></td>\n",
       "      <td></td>\n",
       "      <td></td>\n",
       "      <td></td>\n",
       "      <td></td>\n",
       "      <td></td>\n",
       "      <td></td>\n",
       "      <td></td>\n",
       "      <td>https://www.google.com/search?q=Rethinking+fed...</td>\n",
       "      <td>https://www.google.com/search?sa=X&amp;biw=957&amp;bih...</td>\n",
       "      <td></td>\n",
       "    </tr>\n",
       "    <tr>\n",
       "      <th>3</th>\n",
       "      <td>Smart Cities of Today and Tomorrow: Better Tec...</td>\n",
       "      <td>August 28, 2018</td>\n",
       "      <td></td>\n",
       "      <td>Joseph N Pelton</td>\n",
       "      <td></td>\n",
       "      <td>Hackers, cyber-criminals, Dark Web users, and ...</td>\n",
       "      <td></td>\n",
       "      <td></td>\n",
       "      <td></td>\n",
       "      <td></td>\n",
       "      <td></td>\n",
       "      <td></td>\n",
       "      <td></td>\n",
       "      <td></td>\n",
       "      <td></td>\n",
       "      <td></td>\n",
       "      <td>https://www.google.com/search?q=Smart+Cities+o...</td>\n",
       "      <td>https://www.google.com/search?sa=X&amp;biw=957&amp;bih...</td>\n",
       "      <td></td>\n",
       "    </tr>\n",
       "    <tr>\n",
       "      <th>4</th>\n",
       "      <td>Smart Green Cities: Toward a Carbon Neutral World</td>\n",
       "      <td>2016</td>\n",
       "      <td>Grant Cooke</td>\n",
       "      <td></td>\n",
       "      <td></td>\n",
       "      <td>Smart Green Cities: is a comprehensive overvie...</td>\n",
       "      <td></td>\n",
       "      <td></td>\n",
       "      <td></td>\n",
       "      <td></td>\n",
       "      <td></td>\n",
       "      <td></td>\n",
       "      <td></td>\n",
       "      <td></td>\n",
       "      <td></td>\n",
       "      <td></td>\n",
       "      <td>https://www.google.com/search?q=Smart+Green+Ci...</td>\n",
       "      <td>https://www.google.com/search?sa=X&amp;biw=957&amp;bih...</td>\n",
       "      <td></td>\n",
       "    </tr>\n",
       "    <tr>\n",
       "      <th>5</th>\n",
       "      <td>The Internet of Things: How Smart TVs, Smart C...</td>\n",
       "      <td>2015</td>\n",
       "      <td>Michael Miller</td>\n",
       "      <td></td>\n",
       "      <td></td>\n",
       "      <td>How the Internet of Things will change your li...</td>\n",
       "      <td></td>\n",
       "      <td></td>\n",
       "      <td></td>\n",
       "      <td></td>\n",
       "      <td></td>\n",
       "      <td></td>\n",
       "      <td></td>\n",
       "      <td></td>\n",
       "      <td></td>\n",
       "      <td></td>\n",
       "      <td>https://www.google.com/search?q=The+Internet+o...</td>\n",
       "      <td>https://www.google.com/search?sa=X&amp;biw=957&amp;bih...</td>\n",
       "      <td></td>\n",
       "    </tr>\n",
       "    <tr>\n",
       "      <th>6</th>\n",
       "      <td>Internet of Things for Smart Cities: Technolog...</td>\n",
       "      <td>October 12, 2018</td>\n",
       "      <td></td>\n",
       "      <td>Alagan Anpalagan</td>\n",
       "      <td></td>\n",
       "      <td>This book introduces the concept of smart city...</td>\n",
       "      <td></td>\n",
       "      <td></td>\n",
       "      <td></td>\n",
       "      <td></td>\n",
       "      <td></td>\n",
       "      <td></td>\n",
       "      <td></td>\n",
       "      <td></td>\n",
       "      <td></td>\n",
       "      <td></td>\n",
       "      <td>https://www.google.com/search?q=Internet+of+Th...</td>\n",
       "      <td>https://www.google.com/search?sa=X&amp;biw=957&amp;bih...</td>\n",
       "      <td></td>\n",
       "    </tr>\n",
       "    <tr>\n",
       "      <th>7</th>\n",
       "      <td>The Death and Life of Great American Cities</td>\n",
       "      <td>1961</td>\n",
       "      <td>Jane Jacobs</td>\n",
       "      <td></td>\n",
       "      <td>Non-fiction</td>\n",
       "      <td>The Death and Life of Great American Cities is...</td>\n",
       "      <td></td>\n",
       "      <td></td>\n",
       "      <td>458 (1989 edition)</td>\n",
       "      <td></td>\n",
       "      <td></td>\n",
       "      <td></td>\n",
       "      <td></td>\n",
       "      <td></td>\n",
       "      <td></td>\n",
       "      <td></td>\n",
       "      <td>https://www.google.com/search?q=The+Death+and+...</td>\n",
       "      <td>https://www.google.com/search?sa=X&amp;biw=957&amp;bih...</td>\n",
       "      <td></td>\n",
       "    </tr>\n",
       "    <tr>\n",
       "      <th>8</th>\n",
       "      <td>NaN</td>\n",
       "      <td>NaN</td>\n",
       "      <td>NaN</td>\n",
       "      <td>NaN</td>\n",
       "      <td>NaN</td>\n",
       "      <td>NaN</td>\n",
       "      <td>NaN</td>\n",
       "      <td>NaN</td>\n",
       "      <td>NaN</td>\n",
       "      <td>NaN</td>\n",
       "      <td>NaN</td>\n",
       "      <td>NaN</td>\n",
       "      <td>NaN</td>\n",
       "      <td>NaN</td>\n",
       "      <td>NaN</td>\n",
       "      <td>NaN</td>\n",
       "      <td></td>\n",
       "      <td></td>\n",
       "      <td></td>\n",
       "    </tr>\n",
       "    <tr>\n",
       "      <th>9</th>\n",
       "      <td>NaN</td>\n",
       "      <td>NaN</td>\n",
       "      <td>NaN</td>\n",
       "      <td>NaN</td>\n",
       "      <td>NaN</td>\n",
       "      <td>NaN</td>\n",
       "      <td>NaN</td>\n",
       "      <td>NaN</td>\n",
       "      <td>NaN</td>\n",
       "      <td>NaN</td>\n",
       "      <td>NaN</td>\n",
       "      <td>NaN</td>\n",
       "      <td>NaN</td>\n",
       "      <td>NaN</td>\n",
       "      <td>NaN</td>\n",
       "      <td>NaN</td>\n",
       "      <td></td>\n",
       "      <td></td>\n",
       "      <td></td>\n",
       "    </tr>\n",
       "    <tr>\n",
       "      <th>10</th>\n",
       "      <td>NaN</td>\n",
       "      <td>NaN</td>\n",
       "      <td>NaN</td>\n",
       "      <td>NaN</td>\n",
       "      <td>NaN</td>\n",
       "      <td>NaN</td>\n",
       "      <td>NaN</td>\n",
       "      <td>NaN</td>\n",
       "      <td>NaN</td>\n",
       "      <td>NaN</td>\n",
       "      <td>NaN</td>\n",
       "      <td>NaN</td>\n",
       "      <td>NaN</td>\n",
       "      <td>NaN</td>\n",
       "      <td>NaN</td>\n",
       "      <td>NaN</td>\n",
       "      <td></td>\n",
       "      <td></td>\n",
       "      <td></td>\n",
       "    </tr>\n",
       "    <tr>\n",
       "      <th>11</th>\n",
       "      <td>NaN</td>\n",
       "      <td>NaN</td>\n",
       "      <td>NaN</td>\n",
       "      <td>NaN</td>\n",
       "      <td>NaN</td>\n",
       "      <td>NaN</td>\n",
       "      <td>NaN</td>\n",
       "      <td>NaN</td>\n",
       "      <td>NaN</td>\n",
       "      <td>NaN</td>\n",
       "      <td>NaN</td>\n",
       "      <td>NaN</td>\n",
       "      <td>NaN</td>\n",
       "      <td>NaN</td>\n",
       "      <td>NaN</td>\n",
       "      <td>NaN</td>\n",
       "      <td></td>\n",
       "      <td></td>\n",
       "      <td></td>\n",
       "    </tr>\n",
       "    <tr>\n",
       "      <th>12</th>\n",
       "      <td>NaN</td>\n",
       "      <td>NaN</td>\n",
       "      <td>NaN</td>\n",
       "      <td>NaN</td>\n",
       "      <td>NaN</td>\n",
       "      <td>NaN</td>\n",
       "      <td>NaN</td>\n",
       "      <td>NaN</td>\n",
       "      <td>NaN</td>\n",
       "      <td>NaN</td>\n",
       "      <td>NaN</td>\n",
       "      <td>NaN</td>\n",
       "      <td>NaN</td>\n",
       "      <td>NaN</td>\n",
       "      <td>NaN</td>\n",
       "      <td>NaN</td>\n",
       "      <td></td>\n",
       "      <td></td>\n",
       "      <td></td>\n",
       "    </tr>\n",
       "    <tr>\n",
       "      <th>13</th>\n",
       "      <td>NaN</td>\n",
       "      <td>NaN</td>\n",
       "      <td>NaN</td>\n",
       "      <td>NaN</td>\n",
       "      <td>NaN</td>\n",
       "      <td>NaN</td>\n",
       "      <td>NaN</td>\n",
       "      <td>NaN</td>\n",
       "      <td>NaN</td>\n",
       "      <td>NaN</td>\n",
       "      <td>NaN</td>\n",
       "      <td>NaN</td>\n",
       "      <td>NaN</td>\n",
       "      <td>NaN</td>\n",
       "      <td>NaN</td>\n",
       "      <td>NaN</td>\n",
       "      <td></td>\n",
       "      <td></td>\n",
       "      <td></td>\n",
       "    </tr>\n",
       "    <tr>\n",
       "      <th>14</th>\n",
       "      <td>NaN</td>\n",
       "      <td>NaN</td>\n",
       "      <td>NaN</td>\n",
       "      <td>NaN</td>\n",
       "      <td>NaN</td>\n",
       "      <td>NaN</td>\n",
       "      <td>NaN</td>\n",
       "      <td>NaN</td>\n",
       "      <td>NaN</td>\n",
       "      <td>NaN</td>\n",
       "      <td>NaN</td>\n",
       "      <td>NaN</td>\n",
       "      <td>NaN</td>\n",
       "      <td>NaN</td>\n",
       "      <td>NaN</td>\n",
       "      <td>NaN</td>\n",
       "      <td></td>\n",
       "      <td></td>\n",
       "      <td></td>\n",
       "    </tr>\n",
       "    <tr>\n",
       "      <th>15</th>\n",
       "      <td>NaN</td>\n",
       "      <td>NaN</td>\n",
       "      <td>NaN</td>\n",
       "      <td>NaN</td>\n",
       "      <td>NaN</td>\n",
       "      <td>NaN</td>\n",
       "      <td>NaN</td>\n",
       "      <td>NaN</td>\n",
       "      <td>NaN</td>\n",
       "      <td>NaN</td>\n",
       "      <td>NaN</td>\n",
       "      <td>NaN</td>\n",
       "      <td>NaN</td>\n",
       "      <td>NaN</td>\n",
       "      <td>NaN</td>\n",
       "      <td>NaN</td>\n",
       "      <td></td>\n",
       "      <td></td>\n",
       "      <td></td>\n",
       "    </tr>\n",
       "    <tr>\n",
       "      <th>16</th>\n",
       "      <td>NaN</td>\n",
       "      <td>NaN</td>\n",
       "      <td>NaN</td>\n",
       "      <td>NaN</td>\n",
       "      <td>NaN</td>\n",
       "      <td>NaN</td>\n",
       "      <td>NaN</td>\n",
       "      <td>NaN</td>\n",
       "      <td>NaN</td>\n",
       "      <td>NaN</td>\n",
       "      <td>NaN</td>\n",
       "      <td>NaN</td>\n",
       "      <td>NaN</td>\n",
       "      <td>NaN</td>\n",
       "      <td>NaN</td>\n",
       "      <td>NaN</td>\n",
       "      <td></td>\n",
       "      <td></td>\n",
       "      <td></td>\n",
       "    </tr>\n",
       "    <tr>\n",
       "      <th>17</th>\n",
       "      <td>NaN</td>\n",
       "      <td>NaN</td>\n",
       "      <td>NaN</td>\n",
       "      <td>NaN</td>\n",
       "      <td>NaN</td>\n",
       "      <td>NaN</td>\n",
       "      <td>NaN</td>\n",
       "      <td>NaN</td>\n",
       "      <td>NaN</td>\n",
       "      <td>NaN</td>\n",
       "      <td>NaN</td>\n",
       "      <td>NaN</td>\n",
       "      <td>NaN</td>\n",
       "      <td>NaN</td>\n",
       "      <td>NaN</td>\n",
       "      <td>NaN</td>\n",
       "      <td></td>\n",
       "      <td></td>\n",
       "      <td></td>\n",
       "    </tr>\n",
       "    <tr>\n",
       "      <th>18</th>\n",
       "      <td>NaN</td>\n",
       "      <td>NaN</td>\n",
       "      <td>NaN</td>\n",
       "      <td>NaN</td>\n",
       "      <td>NaN</td>\n",
       "      <td>NaN</td>\n",
       "      <td>NaN</td>\n",
       "      <td>NaN</td>\n",
       "      <td>NaN</td>\n",
       "      <td>NaN</td>\n",
       "      <td>NaN</td>\n",
       "      <td>NaN</td>\n",
       "      <td>NaN</td>\n",
       "      <td>NaN</td>\n",
       "      <td>NaN</td>\n",
       "      <td>NaN</td>\n",
       "      <td></td>\n",
       "      <td></td>\n",
       "      <td></td>\n",
       "    </tr>\n",
       "    <tr>\n",
       "      <th>19</th>\n",
       "      <td>NaN</td>\n",
       "      <td>NaN</td>\n",
       "      <td>NaN</td>\n",
       "      <td>NaN</td>\n",
       "      <td>NaN</td>\n",
       "      <td>NaN</td>\n",
       "      <td>NaN</td>\n",
       "      <td>NaN</td>\n",
       "      <td>NaN</td>\n",
       "      <td>NaN</td>\n",
       "      <td>NaN</td>\n",
       "      <td>NaN</td>\n",
       "      <td>NaN</td>\n",
       "      <td>NaN</td>\n",
       "      <td>NaN</td>\n",
       "      <td>NaN</td>\n",
       "      <td></td>\n",
       "      <td></td>\n",
       "      <td></td>\n",
       "    </tr>\n",
       "  </tbody>\n",
       "</table>\n",
       "</div>"
      ],
      "text/plain": [
       "                                                 Book Originally published  \\\n",
       "0                   Deepfakes: The Coming Infocalypse      August 25, 2020   \n",
       "1   Demystifying Smart Cities: Practical Perspecti...     December 9, 2019   \n",
       "2                   Rethinking federal housing policy                 2011   \n",
       "3   Smart Cities of Today and Tomorrow: Better Tec...      August 28, 2018   \n",
       "4   Smart Green Cities: Toward a Carbon Neutral World                 2016   \n",
       "5   The Internet of Things: How Smart TVs, Smart C...                 2015   \n",
       "6   Internet of Things for Smart Cities: Technolog...     October 12, 2018   \n",
       "7         The Death and Life of Great American Cities                 1961   \n",
       "8                                                 NaN                  NaN   \n",
       "9                                                 NaN                  NaN   \n",
       "10                                                NaN                  NaN   \n",
       "11                                                NaN                  NaN   \n",
       "12                                                NaN                  NaN   \n",
       "13                                                NaN                  NaN   \n",
       "14                                                NaN                  NaN   \n",
       "15                                                NaN                  NaN   \n",
       "16                                                NaN                  NaN   \n",
       "17                                                NaN                  NaN   \n",
       "18                                                NaN                  NaN   \n",
       "19                                                NaN                  NaN   \n",
       "\n",
       "            Author           Authors           Genre  \\\n",
       "0      Nina Schick                                     \n",
       "1   Anders Lisdorf                                     \n",
       "2   Edward Glaeser                    Reference work   \n",
       "3                    Joseph N Pelton                   \n",
       "4      Grant Cooke                                     \n",
       "5   Michael Miller                                     \n",
       "6                   Alagan Anpalagan                   \n",
       "7      Jane Jacobs                       Non-fiction   \n",
       "8              NaN               NaN             NaN   \n",
       "9              NaN               NaN             NaN   \n",
       "10             NaN               NaN             NaN   \n",
       "11             NaN               NaN             NaN   \n",
       "12             NaN               NaN             NaN   \n",
       "13             NaN               NaN             NaN   \n",
       "14             NaN               NaN             NaN   \n",
       "15             NaN               NaN             NaN   \n",
       "16             NaN               NaN             NaN   \n",
       "17             NaN               NaN             NaN   \n",
       "18             NaN               NaN             NaN   \n",
       "19             NaN               NaN             NaN   \n",
       "\n",
       "                                            BookIntro ISBN Nominations  \\\n",
       "0   Everything you need to know about \"deepfakes\" ...                    \n",
       "1   The concept of Smart Cities is accurately rega...                    \n",
       "2   A pioneering urban economist presents a myth-s...                    \n",
       "3   Hackers, cyber-criminals, Dark Web users, and ...                    \n",
       "4   Smart Green Cities: is a comprehensive overvie...                    \n",
       "5   How the Internet of Things will change your li...                    \n",
       "6   This book introduces the concept of smart city...                    \n",
       "7   The Death and Life of Great American Cities is...                    \n",
       "8                                                 NaN  NaN         NaN   \n",
       "9                                                 NaN  NaN         NaN   \n",
       "10                                                NaN  NaN         NaN   \n",
       "11                                                NaN  NaN         NaN   \n",
       "12                                                NaN  NaN         NaN   \n",
       "13                                                NaN  NaN         NaN   \n",
       "14                                                NaN  NaN         NaN   \n",
       "15                                                NaN  NaN         NaN   \n",
       "16                                                NaN  NaN         NaN   \n",
       "17                                                NaN  NaN         NaN   \n",
       "18                                                NaN  NaN         NaN   \n",
       "19                                                NaN  NaN         NaN   \n",
       "\n",
       "            Page count Publisher OCLC Description PublishDate Goodreads  \\\n",
       "0                                                                         \n",
       "1                                                                         \n",
       "2                                                                         \n",
       "3                                                                         \n",
       "4                                                                         \n",
       "5                                                                         \n",
       "6                                                                         \n",
       "7   458 (1989 edition)                                                    \n",
       "8                  NaN       NaN  NaN         NaN         NaN       NaN   \n",
       "9                  NaN       NaN  NaN         NaN         NaN       NaN   \n",
       "10                 NaN       NaN  NaN         NaN         NaN       NaN   \n",
       "11                 NaN       NaN  NaN         NaN         NaN       NaN   \n",
       "12                 NaN       NaN  NaN         NaN         NaN       NaN   \n",
       "13                 NaN       NaN  NaN         NaN         NaN       NaN   \n",
       "14                 NaN       NaN  NaN         NaN         NaN       NaN   \n",
       "15                 NaN       NaN  NaN         NaN         NaN       NaN   \n",
       "16                 NaN       NaN  NaN         NaN         NaN       NaN   \n",
       "17                 NaN       NaN  NaN         NaN         NaN       NaN   \n",
       "18                 NaN       NaN  NaN         NaN         NaN       NaN   \n",
       "19                 NaN       NaN  NaN         NaN         NaN       NaN   \n",
       "\n",
       "   Audible.com Barnes & Noble  \\\n",
       "0                         5/5   \n",
       "1                               \n",
       "2                               \n",
       "3                               \n",
       "4                               \n",
       "5                               \n",
       "6                               \n",
       "7                               \n",
       "8          NaN            NaN   \n",
       "9          NaN            NaN   \n",
       "10         NaN            NaN   \n",
       "11         NaN            NaN   \n",
       "12         NaN            NaN   \n",
       "13         NaN            NaN   \n",
       "14         NaN            NaN   \n",
       "15         NaN            NaN   \n",
       "16         NaN            NaN   \n",
       "17         NaN            NaN   \n",
       "18         NaN            NaN   \n",
       "19         NaN            NaN   \n",
       "\n",
       "                                              bookurl  \\\n",
       "0   https://www.google.com/search?q=Deepfakes:+The...   \n",
       "1   https://www.google.com/search?q=Demystifying+S...   \n",
       "2   https://www.google.com/search?q=Rethinking+fed...   \n",
       "3   https://www.google.com/search?q=Smart+Cities+o...   \n",
       "4   https://www.google.com/search?q=Smart+Green+Ci...   \n",
       "5   https://www.google.com/search?q=The+Internet+o...   \n",
       "6   https://www.google.com/search?q=Internet+of+Th...   \n",
       "7   https://www.google.com/search?q=The+Death+and+...   \n",
       "8                                                       \n",
       "9                                                       \n",
       "10                                                      \n",
       "11                                                      \n",
       "12                                                      \n",
       "13                                                      \n",
       "14                                                      \n",
       "15                                                      \n",
       "16                                                      \n",
       "17                                                      \n",
       "18                                                      \n",
       "19                                                      \n",
       "\n",
       "                                            authorurl  twittername  \n",
       "0   https://www.google.com/search?sa=X&biw=957&bih...  ninadschick  \n",
       "1   https://www.google.com/search?sa=X&biw=957&bih...               \n",
       "2   https://www.google.com/search?sa=X&biw=957&bih...               \n",
       "3   https://www.google.com/search?sa=X&biw=957&bih...               \n",
       "4   https://www.google.com/search?sa=X&biw=957&bih...               \n",
       "5   https://www.google.com/search?sa=X&biw=957&bih...               \n",
       "6   https://www.google.com/search?sa=X&biw=957&bih...               \n",
       "7   https://www.google.com/search?sa=X&biw=957&bih...               \n",
       "8                                                                   \n",
       "9                                                                   \n",
       "10                                                                  \n",
       "11                                                                  \n",
       "12                                                                  \n",
       "13                                                                  \n",
       "14                                                                  \n",
       "15                                                                  \n",
       "16                                                                  \n",
       "17                                                                  \n",
       "18                                                                  \n",
       "19                                                                  "
      ]
     },
     "execution_count": 441,
     "metadata": {},
     "output_type": "execute_result"
    }
   ],
   "source": [
    "df2 = pd.concat([df1,df],axis=1)\n",
    "df2"
   ]
  },
  {
   "cell_type": "code",
   "execution_count": 442,
   "metadata": {
    "ExecuteTime": {
     "end_time": "2021-01-25T00:17:05.441228Z",
     "start_time": "2021-01-25T00:17:05.433780Z"
    }
   },
   "outputs": [],
   "source": [
    "df2.to_csv('/Users/arlenehuang/Desktop/data.csv')"
   ]
  },
  {
   "cell_type": "code",
   "execution_count": null,
   "metadata": {},
   "outputs": [],
   "source": []
  },
  {
   "cell_type": "code",
   "execution_count": null,
   "metadata": {},
   "outputs": [],
   "source": []
  },
  {
   "cell_type": "code",
   "execution_count": null,
   "metadata": {},
   "outputs": [],
   "source": []
  },
  {
   "cell_type": "code",
   "execution_count": null,
   "metadata": {},
   "outputs": [],
   "source": []
  },
  {
   "cell_type": "code",
   "execution_count": null,
   "metadata": {},
   "outputs": [],
   "source": []
  },
  {
   "cell_type": "code",
   "execution_count": null,
   "metadata": {},
   "outputs": [],
   "source": []
  },
  {
   "cell_type": "code",
   "execution_count": null,
   "metadata": {},
   "outputs": [],
   "source": []
  },
  {
   "cell_type": "code",
   "execution_count": null,
   "metadata": {},
   "outputs": [],
   "source": []
  },
  {
   "cell_type": "code",
   "execution_count": null,
   "metadata": {},
   "outputs": [],
   "source": []
  },
  {
   "cell_type": "code",
   "execution_count": null,
   "metadata": {},
   "outputs": [],
   "source": []
  },
  {
   "cell_type": "code",
   "execution_count": null,
   "metadata": {},
   "outputs": [],
   "source": []
  },
  {
   "cell_type": "code",
   "execution_count": null,
   "metadata": {},
   "outputs": [],
   "source": []
  },
  {
   "cell_type": "code",
   "execution_count": null,
   "metadata": {},
   "outputs": [],
   "source": []
  },
  {
   "cell_type": "code",
   "execution_count": null,
   "metadata": {},
   "outputs": [],
   "source": []
  },
  {
   "cell_type": "code",
   "execution_count": 147,
   "metadata": {
    "ExecuteTime": {
     "end_time": "2021-01-24T21:47:29.529593Z",
     "start_time": "2021-01-24T21:47:29.502651Z"
    }
   },
   "outputs": [
    {
     "data": {
      "text/plain": [
       "'walterisaacson'"
      ]
     },
     "execution_count": 147,
     "metadata": {},
     "output_type": "execute_result"
    }
   ],
   "source": [
    "driver.find_element_by_xpath('//g-link[@class=\"fl\"]/a').get_attribute('href')[20:1000]\n"
   ]
  },
  {
   "cell_type": "code",
   "execution_count": null,
   "metadata": {},
   "outputs": [],
   "source": []
  },
  {
   "cell_type": "code",
   "execution_count": 127,
   "metadata": {
    "ExecuteTime": {
     "end_time": "2021-01-24T21:37:17.448164Z",
     "start_time": "2021-01-24T21:37:16.579030Z"
    }
   },
   "outputs": [],
   "source": [
    "#get book info\n",
    "driver.find_elements_by_xpath('//a[@class=\"ct5Ked klitem-tr PZPZlf\"]')[2].click()"
   ]
  },
  {
   "cell_type": "code",
   "execution_count": 121,
   "metadata": {
    "ExecuteTime": {
     "end_time": "2021-01-24T21:30:11.951627Z",
     "start_time": "2021-01-24T21:30:10.653839Z"
    }
   },
   "outputs": [],
   "source": [
    "#get author info\n",
    "driver.find_elements_by_xpath('//a[@class=\"ct5Ked klitem-tr PZPZlf\"]')[0].click()\n",
    "authorurl = driver.find_elements_by_xpath('//span[@class=\"Eq0J8 LrzXr kno-fv\"]/a')[0].get_attribute('href')"
   ]
  },
  {
   "cell_type": "code",
   "execution_count": 140,
   "metadata": {
    "ExecuteTime": {
     "end_time": "2021-01-24T21:43:23.929673Z",
     "start_time": "2021-01-24T21:43:22.637621Z"
    }
   },
   "outputs": [
    {
     "ename": "NoSuchElementException",
     "evalue": "Message: no such element: Unable to locate element: {\"method\":\"xpath\",\"selector\":\"//g-link[@class=\"fl\"]/a\"}\n  (Session info: chrome=87.0.4280.141)\n",
     "output_type": "error",
     "traceback": [
      "\u001b[0;31m---------------------------------------------------------------------------\u001b[0m",
      "\u001b[0;31mNoSuchElementException\u001b[0m                    Traceback (most recent call last)",
      "\u001b[0;32m<ipython-input-140-a6aff6d5599c>\u001b[0m in \u001b[0;36m<module>\u001b[0;34m\u001b[0m\n\u001b[1;32m      1\u001b[0m \u001b[0;31m#get twitter info\u001b[0m\u001b[0;34m\u001b[0m\u001b[0;34m\u001b[0m\u001b[0;34m\u001b[0m\u001b[0m\n\u001b[1;32m      2\u001b[0m \u001b[0mdriver\u001b[0m\u001b[0;34m.\u001b[0m\u001b[0mfind_elements_by_xpath\u001b[0m\u001b[0;34m(\u001b[0m\u001b[0;34m'//span[@class=\"Eq0J8 LrzXr kno-fv\"]/a'\u001b[0m\u001b[0;34m)\u001b[0m\u001b[0;34m[\u001b[0m\u001b[0;36m0\u001b[0m\u001b[0;34m]\u001b[0m\u001b[0;34m.\u001b[0m\u001b[0mclick\u001b[0m\u001b[0;34m(\u001b[0m\u001b[0;34m)\u001b[0m\u001b[0;34m\u001b[0m\u001b[0;34m\u001b[0m\u001b[0m\n\u001b[0;32m----> 3\u001b[0;31m \u001b[0mtwittername\u001b[0m \u001b[0;34m=\u001b[0m \u001b[0mdriver\u001b[0m\u001b[0;34m.\u001b[0m\u001b[0mfind_element_by_xpath\u001b[0m\u001b[0;34m(\u001b[0m\u001b[0;34m'//g-link[@class=\"fl\"]/a'\u001b[0m\u001b[0;34m)\u001b[0m\u001b[0;34m.\u001b[0m\u001b[0mget_attribute\u001b[0m\u001b[0;34m(\u001b[0m\u001b[0;34m'href'\u001b[0m\u001b[0;34m)\u001b[0m\u001b[0;34m[\u001b[0m\u001b[0;36m20\u001b[0m\u001b[0;34m:\u001b[0m\u001b[0;36m1000\u001b[0m\u001b[0;34m]\u001b[0m\u001b[0;34m\u001b[0m\u001b[0;34m\u001b[0m\u001b[0m\n\u001b[0m",
      "\u001b[0;32m/Library/Frameworks/Python.framework/Versions/3.8/lib/python3.8/site-packages/selenium/webdriver/remote/webdriver.py\u001b[0m in \u001b[0;36mfind_element_by_xpath\u001b[0;34m(self, xpath)\u001b[0m\n\u001b[1;32m    392\u001b[0m             \u001b[0melement\u001b[0m \u001b[0;34m=\u001b[0m \u001b[0mdriver\u001b[0m\u001b[0;34m.\u001b[0m\u001b[0mfind_element_by_xpath\u001b[0m\u001b[0;34m(\u001b[0m\u001b[0;34m'//div/td[1]'\u001b[0m\u001b[0;34m)\u001b[0m\u001b[0;34m\u001b[0m\u001b[0;34m\u001b[0m\u001b[0m\n\u001b[1;32m    393\u001b[0m         \"\"\"\n\u001b[0;32m--> 394\u001b[0;31m         \u001b[0;32mreturn\u001b[0m \u001b[0mself\u001b[0m\u001b[0;34m.\u001b[0m\u001b[0mfind_element\u001b[0m\u001b[0;34m(\u001b[0m\u001b[0mby\u001b[0m\u001b[0;34m=\u001b[0m\u001b[0mBy\u001b[0m\u001b[0;34m.\u001b[0m\u001b[0mXPATH\u001b[0m\u001b[0;34m,\u001b[0m \u001b[0mvalue\u001b[0m\u001b[0;34m=\u001b[0m\u001b[0mxpath\u001b[0m\u001b[0;34m)\u001b[0m\u001b[0;34m\u001b[0m\u001b[0;34m\u001b[0m\u001b[0m\n\u001b[0m\u001b[1;32m    395\u001b[0m \u001b[0;34m\u001b[0m\u001b[0m\n\u001b[1;32m    396\u001b[0m     \u001b[0;32mdef\u001b[0m \u001b[0mfind_elements_by_xpath\u001b[0m\u001b[0;34m(\u001b[0m\u001b[0mself\u001b[0m\u001b[0;34m,\u001b[0m \u001b[0mxpath\u001b[0m\u001b[0;34m)\u001b[0m\u001b[0;34m:\u001b[0m\u001b[0;34m\u001b[0m\u001b[0;34m\u001b[0m\u001b[0m\n",
      "\u001b[0;32m/Library/Frameworks/Python.framework/Versions/3.8/lib/python3.8/site-packages/selenium/webdriver/remote/webdriver.py\u001b[0m in \u001b[0;36mfind_element\u001b[0;34m(self, by, value)\u001b[0m\n\u001b[1;32m    974\u001b[0m                 \u001b[0mby\u001b[0m \u001b[0;34m=\u001b[0m \u001b[0mBy\u001b[0m\u001b[0;34m.\u001b[0m\u001b[0mCSS_SELECTOR\u001b[0m\u001b[0;34m\u001b[0m\u001b[0;34m\u001b[0m\u001b[0m\n\u001b[1;32m    975\u001b[0m                 \u001b[0mvalue\u001b[0m \u001b[0;34m=\u001b[0m \u001b[0;34m'[name=\"%s\"]'\u001b[0m \u001b[0;34m%\u001b[0m \u001b[0mvalue\u001b[0m\u001b[0;34m\u001b[0m\u001b[0;34m\u001b[0m\u001b[0m\n\u001b[0;32m--> 976\u001b[0;31m         return self.execute(Command.FIND_ELEMENT, {\n\u001b[0m\u001b[1;32m    977\u001b[0m             \u001b[0;34m'using'\u001b[0m\u001b[0;34m:\u001b[0m \u001b[0mby\u001b[0m\u001b[0;34m,\u001b[0m\u001b[0;34m\u001b[0m\u001b[0;34m\u001b[0m\u001b[0m\n\u001b[1;32m    978\u001b[0m             'value': value})['value']\n",
      "\u001b[0;32m/Library/Frameworks/Python.framework/Versions/3.8/lib/python3.8/site-packages/selenium/webdriver/remote/webdriver.py\u001b[0m in \u001b[0;36mexecute\u001b[0;34m(self, driver_command, params)\u001b[0m\n\u001b[1;32m    319\u001b[0m         \u001b[0mresponse\u001b[0m \u001b[0;34m=\u001b[0m \u001b[0mself\u001b[0m\u001b[0;34m.\u001b[0m\u001b[0mcommand_executor\u001b[0m\u001b[0;34m.\u001b[0m\u001b[0mexecute\u001b[0m\u001b[0;34m(\u001b[0m\u001b[0mdriver_command\u001b[0m\u001b[0;34m,\u001b[0m \u001b[0mparams\u001b[0m\u001b[0;34m)\u001b[0m\u001b[0;34m\u001b[0m\u001b[0;34m\u001b[0m\u001b[0m\n\u001b[1;32m    320\u001b[0m         \u001b[0;32mif\u001b[0m \u001b[0mresponse\u001b[0m\u001b[0;34m:\u001b[0m\u001b[0;34m\u001b[0m\u001b[0;34m\u001b[0m\u001b[0m\n\u001b[0;32m--> 321\u001b[0;31m             \u001b[0mself\u001b[0m\u001b[0;34m.\u001b[0m\u001b[0merror_handler\u001b[0m\u001b[0;34m.\u001b[0m\u001b[0mcheck_response\u001b[0m\u001b[0;34m(\u001b[0m\u001b[0mresponse\u001b[0m\u001b[0;34m)\u001b[0m\u001b[0;34m\u001b[0m\u001b[0;34m\u001b[0m\u001b[0m\n\u001b[0m\u001b[1;32m    322\u001b[0m             response['value'] = self._unwrap_value(\n\u001b[1;32m    323\u001b[0m                 response.get('value', None))\n",
      "\u001b[0;32m/Library/Frameworks/Python.framework/Versions/3.8/lib/python3.8/site-packages/selenium/webdriver/remote/errorhandler.py\u001b[0m in \u001b[0;36mcheck_response\u001b[0;34m(self, response)\u001b[0m\n\u001b[1;32m    240\u001b[0m                 \u001b[0malert_text\u001b[0m \u001b[0;34m=\u001b[0m \u001b[0mvalue\u001b[0m\u001b[0;34m[\u001b[0m\u001b[0;34m'alert'\u001b[0m\u001b[0;34m]\u001b[0m\u001b[0;34m.\u001b[0m\u001b[0mget\u001b[0m\u001b[0;34m(\u001b[0m\u001b[0;34m'text'\u001b[0m\u001b[0;34m)\u001b[0m\u001b[0;34m\u001b[0m\u001b[0;34m\u001b[0m\u001b[0m\n\u001b[1;32m    241\u001b[0m             \u001b[0;32mraise\u001b[0m \u001b[0mexception_class\u001b[0m\u001b[0;34m(\u001b[0m\u001b[0mmessage\u001b[0m\u001b[0;34m,\u001b[0m \u001b[0mscreen\u001b[0m\u001b[0;34m,\u001b[0m \u001b[0mstacktrace\u001b[0m\u001b[0;34m,\u001b[0m \u001b[0malert_text\u001b[0m\u001b[0;34m)\u001b[0m\u001b[0;34m\u001b[0m\u001b[0;34m\u001b[0m\u001b[0m\n\u001b[0;32m--> 242\u001b[0;31m         \u001b[0;32mraise\u001b[0m \u001b[0mexception_class\u001b[0m\u001b[0;34m(\u001b[0m\u001b[0mmessage\u001b[0m\u001b[0;34m,\u001b[0m \u001b[0mscreen\u001b[0m\u001b[0;34m,\u001b[0m \u001b[0mstacktrace\u001b[0m\u001b[0;34m)\u001b[0m\u001b[0;34m\u001b[0m\u001b[0;34m\u001b[0m\u001b[0m\n\u001b[0m\u001b[1;32m    243\u001b[0m \u001b[0;34m\u001b[0m\u001b[0m\n\u001b[1;32m    244\u001b[0m     \u001b[0;32mdef\u001b[0m \u001b[0m_value_or_default\u001b[0m\u001b[0;34m(\u001b[0m\u001b[0mself\u001b[0m\u001b[0;34m,\u001b[0m \u001b[0mobj\u001b[0m\u001b[0;34m,\u001b[0m \u001b[0mkey\u001b[0m\u001b[0;34m,\u001b[0m \u001b[0mdefault\u001b[0m\u001b[0;34m)\u001b[0m\u001b[0;34m:\u001b[0m\u001b[0;34m\u001b[0m\u001b[0;34m\u001b[0m\u001b[0m\n",
      "\u001b[0;31mNoSuchElementException\u001b[0m: Message: no such element: Unable to locate element: {\"method\":\"xpath\",\"selector\":\"//g-link[@class=\"fl\"]/a\"}\n  (Session info: chrome=87.0.4280.141)\n"
     ]
    }
   ],
   "source": [
    "#get twitter info\n",
    "driver.find_elements_by_xpath('//span[@class=\"Eq0J8 LrzXr kno-fv\"]/a')[0].click()\n",
    "twittername = driver.find_element_by_xpath('//g-link[@class=\"fl\"]/a').get_attribute('href')[20:1000]\n",
    "\n"
   ]
  },
  {
   "cell_type": "code",
   "execution_count": 137,
   "metadata": {
    "ExecuteTime": {
     "end_time": "2021-01-24T21:42:23.464781Z",
     "start_time": "2021-01-24T21:42:23.460404Z"
    }
   },
   "outputs": [
    {
     "name": "stdout",
     "output_type": "stream",
     "text": [
      "https://www.google.com/search?q=The+Innovators&stick=H4sIAAAAAAAAAG1Tu2sUQRy-PTUmmyi5DaIcFmdQiUG8nX3c7aZJwAcIiqBpRGTJzD4md7Ovm2Uf0wg-aoOgYCNiJaj_gIKIlaawsLASCwvBQiy10bh33M1FtNtvf9983-_7zW8md81PN_2mDBQldvW2sh86NGlQh5D1wGskDsINGIZduilsp20Ke5peEwDMQKTauDPCnqJ1c6jCEYZtmkCGixF2W8D2cepzfs4s5lON1-W47eqmx-uJZXVkvcv9TKApHtJH2C4gQkjNNwWx3x1W8x7D3JzJed7TIi7e1SDLA1737G7cxTobHlZ9PfDccecxpCBmI4xARCKWtYbkWAMwNjk5sWTs6mWMmT5mSlKkPoiG3KxDjH6Lg1rcSkGsMZU34UFqFCmXQkqsZ7gw-_MusQJiz9YIz68qheEZJZ7sKyPglsSpwSdrWVwU6bCntgK6PYyqd9JxmBYg3R7iY7SL3ExlwPmZmyHZHIXVTRgY1tBILXBmDQtekhG1xedrt6yYmHi0KiA105Svgks7BCqEeyIVmBHE6tizCOwk4oPwZN_QKbP4eRSXM82sbasXFLLFM2E7IrJJYs5vUwwzuTNePa3NEqjwzDkEngqCEe7ISjn8KOP9FFnWzRgdRqW5YcSdz8KP6vTs15-f5urfqneevv0gfKmKs-fCsHwwxUWHrCWOvRpKh8WJ00GynhRSXZypD66qjUC6UKmLIkfSC0GcvuQkq-H50F53C-mJID0W_qN2lKsdFPfUB5egUUzcUm5aHEOJ_C13VboiTp13fOj06AVXWhLFkyEhDkrWw0A6Lu6r15qI_2gOHnmpOCf--3t-78WBTbnmSH0lVJeqC9X5QLGev7_3buJybSPd2rp968xK_diiJO4-S8-FaI3Ulk8ZD2_--r68OCdOrq7lYRD6Re3Gg69bv7e-L88fmnr2Uqh8vP9luXbzzY6V3-zIyoEdjcpCBVz4-eva67snVhYrpdP1l49fT-ycFGYrM4927V3FTuNsEITpWhL26MaE8Ae-1OPMvQQAAA&sa=X&ved=2ahUKEwiNitKoxLXuAhUSGVkFHapsCYIQ-BYwFHoECBUQMw&cshid=1611524500708049 https://www.google.com/search?sa=X&biw=1044&bih=932&q=Walter+Isaacson&stick=H4sIAAAAAAAAAOPgE-LWz9U3MDQyKkwzNVfiBHHM4tOys7VkspOt9JPy87P1y4syS0pS8-LL84uyrRJLSzLyixax8ocn5pSkFil4FicmJhfn5-1gZQQAjOEkbE0AAAA&ved=2ahUKEwjh4sPLxLXuAhUKMlkFHQAuAbEQmxMoATAVegQIHRAD walterisaacson\n"
     ]
    }
   ],
   "source": [
    "print(bookurl,authorurl,twittername)"
   ]
  },
  {
   "cell_type": "code",
   "execution_count": null,
   "metadata": {},
   "outputs": [],
   "source": []
  },
  {
   "cell_type": "code",
   "execution_count": null,
   "metadata": {},
   "outputs": [],
   "source": []
  },
  {
   "cell_type": "code",
   "execution_count": null,
   "metadata": {},
   "outputs": [],
   "source": []
  },
  {
   "cell_type": "code",
   "execution_count": null,
   "metadata": {},
   "outputs": [],
   "source": []
  },
  {
   "cell_type": "code",
   "execution_count": 105,
   "metadata": {
    "ExecuteTime": {
     "end_time": "2021-01-24T21:15:22.539178Z",
     "start_time": "2021-01-24T21:15:22.231721Z"
    }
   },
   "outputs": [],
   "source": [
    "driver.find_elements_by_xpath('//a[@class=\"ct5Ked klitem-tr PZPZlf\"]')[0].click()\n"
   ]
  },
  {
   "cell_type": "code",
   "execution_count": 107,
   "metadata": {
    "ExecuteTime": {
     "end_time": "2021-01-24T21:15:44.330282Z",
     "start_time": "2021-01-24T21:15:42.948761Z"
    }
   },
   "outputs": [],
   "source": [
    "driver.find_elements_by_xpath('//a[@class=\"ct5Ked klitem-tr PZPZlf\"]')[0].click()\n"
   ]
  },
  {
   "cell_type": "code",
   "execution_count": 109,
   "metadata": {
    "ExecuteTime": {
     "end_time": "2021-01-24T21:15:55.256363Z",
     "start_time": "2021-01-24T21:15:54.895143Z"
    }
   },
   "outputs": [],
   "source": [
    "driver.find_elements_by_xpath('//a[@class=\"ct5Ked klitem-tr PZPZlf\"]')[1].click()\n"
   ]
  },
  {
   "cell_type": "code",
   "execution_count": 110,
   "metadata": {
    "ExecuteTime": {
     "end_time": "2021-01-24T21:16:06.800323Z",
     "start_time": "2021-01-24T21:16:05.697652Z"
    }
   },
   "outputs": [],
   "source": [
    "driver.find_elements_by_xpath('//a[@class=\"ct5Ked klitem-tr PZPZlf\"]')[2].click()\n"
   ]
  },
  {
   "cell_type": "code",
   "execution_count": null,
   "metadata": {},
   "outputs": [],
   "source": []
  },
  {
   "cell_type": "code",
   "execution_count": null,
   "metadata": {},
   "outputs": [],
   "source": []
  },
  {
   "cell_type": "code",
   "execution_count": 35,
   "metadata": {
    "ExecuteTime": {
     "end_time": "2021-01-24T20:35:42.878203Z",
     "start_time": "2021-01-24T20:35:38.600043Z"
    }
   },
   "outputs": [],
   "source": [
    "# open driver and website\n",
    "driver = webdriver.Chrome('/Applications/chromedriver')\n",
    "\n",
    "driver.get('https://www.google.com/')"
   ]
  },
  {
   "cell_type": "code",
   "execution_count": 36,
   "metadata": {
    "ExecuteTime": {
     "end_time": "2021-01-24T20:35:47.369147Z",
     "start_time": "2021-01-24T20:35:44.977202Z"
    }
   },
   "outputs": [],
   "source": [
    "driver.find_element_by_name('q').send_keys('best selling tech books')\n",
    "sleep(0.5)\n",
    "driver.find_element_by_class_name('gNO89b').click()\n"
   ]
  },
  {
   "cell_type": "code",
   "execution_count": 37,
   "metadata": {
    "ExecuteTime": {
     "end_time": "2021-01-24T20:35:54.103058Z",
     "start_time": "2021-01-24T20:35:53.183784Z"
    }
   },
   "outputs": [],
   "source": [
    "driver.find_element_by_xpath('//a[@class=\"ct5Ked klitem-tr PZPZlf\"]').click()\n"
   ]
  },
  {
   "cell_type": "code",
   "execution_count": 57,
   "metadata": {
    "ExecuteTime": {
     "end_time": "2021-01-24T20:46:26.988476Z",
     "start_time": "2021-01-24T20:46:26.963432Z"
    }
   },
   "outputs": [
    {
     "data": {
      "text/plain": [
       "'https://www.google.com/search?sa=X&biw=489&bih=931&q=Walter+Isaacson&stick=H4sIAAAAAAAAAOPgE-LWz9U3MDQyKkwzNVfiBHHM4tOys7VkspOt9JPy87P1y4syS0pS8-LL84uyrRJLSzLyixax8ocn5pSkFil4FicmJhfn5-1gZQQAjOEkbE0AAAA&ved=2ahUKEwj-3Onft7XuAhVVEVkFHX4uDacQmxMoATAdegQIMBAD'"
      ]
     },
     "execution_count": 57,
     "metadata": {},
     "output_type": "execute_result"
    }
   ],
   "source": [
    "authorurl = driver.find_elements_by_xpath('//span[@class=\"Eq0J8 LrzXr kno-fv\"]/a')[0].get_attribute('href')\n",
    "\n"
   ]
  },
  {
   "cell_type": "code",
   "execution_count": 88,
   "metadata": {
    "ExecuteTime": {
     "end_time": "2021-01-24T21:08:43.298579Z",
     "start_time": "2021-01-24T21:08:42.272484Z"
    }
   },
   "outputs": [],
   "source": [
    "driver.find_elements_by_xpath('//span[@class=\"Eq0J8 LrzXr kno-fv\"]')[1].click()"
   ]
  },
  {
   "cell_type": "code",
   "execution_count": 62,
   "metadata": {
    "ExecuteTime": {
     "end_time": "2021-01-24T20:52:12.367062Z",
     "start_time": "2021-01-24T20:52:12.184963Z"
    }
   },
   "outputs": [
    {
     "data": {
      "text/plain": [
       "'https://en.wikipedia.org/wiki/Walter_Isaacson'"
      ]
     },
     "execution_count": 62,
     "metadata": {},
     "output_type": "execute_result"
    }
   ],
   "source": [
    "driver.find_elements_by_link_text('Wikipedia')[0].get_attribute('href')"
   ]
  },
  {
   "cell_type": "code",
   "execution_count": 89,
   "metadata": {
    "ExecuteTime": {
     "end_time": "2021-01-24T21:08:58.276806Z",
     "start_time": "2021-01-24T21:08:58.240298Z"
    }
   },
   "outputs": [
    {
     "data": {
      "text/plain": [
       "'Peter H. Diamandis is a Greek American engineer, physician, and entrepreneur best known for being founder and chairman of the X Prize Foundation, cofounder and executive chairman of Singularity University ...'"
      ]
     },
     "execution_count": 89,
     "metadata": {},
     "output_type": "execute_result"
    }
   ],
   "source": [
    "driver.find_elements_by_xpath('//div[@class=\"kno-rdesc\"]/div/span')[0].get_attribute('innerHTML')"
   ]
  },
  {
   "cell_type": "code",
   "execution_count": 90,
   "metadata": {
    "ExecuteTime": {
     "end_time": "2021-01-24T21:09:06.554489Z",
     "start_time": "2021-01-24T21:09:06.529663Z"
    }
   },
   "outputs": [
    {
     "data": {
      "text/plain": [
       "'https://twitter.com/peterdiamandis'"
      ]
     },
     "execution_count": 90,
     "metadata": {},
     "output_type": "execute_result"
    }
   ],
   "source": [
    "driver.find_element_by_xpath('//g-link[@class=\"fl\"]/a').get_attribute('href')"
   ]
  },
  {
   "cell_type": "code",
   "execution_count": 133,
   "metadata": {
    "ExecuteTime": {
     "end_time": "2021-01-24T21:41:19.179980Z",
     "start_time": "2021-01-24T21:41:19.154583Z"
    }
   },
   "outputs": [
    {
     "data": {
      "text/plain": [
       "'walterisaacson'"
      ]
     },
     "execution_count": 133,
     "metadata": {},
     "output_type": "execute_result"
    }
   ],
   "source": [
    "driver.find_element_by_xpath('//g-link[@class=\"fl\"]/a').get_attribute('href')[20:1000]"
   ]
  },
  {
   "cell_type": "code",
   "execution_count": null,
   "metadata": {},
   "outputs": [],
   "source": []
  },
  {
   "cell_type": "code",
   "execution_count": null,
   "metadata": {},
   "outputs": [],
   "source": []
  },
  {
   "cell_type": "code",
   "execution_count": null,
   "metadata": {},
   "outputs": [],
   "source": []
  },
  {
   "cell_type": "code",
   "execution_count": null,
   "metadata": {},
   "outputs": [],
   "source": []
  }
 ],
 "metadata": {
  "kernelspec": {
   "display_name": "Python 3",
   "language": "python",
   "name": "python3"
  },
  "language_info": {
   "codemirror_mode": {
    "name": "ipython",
    "version": 3
   },
   "file_extension": ".py",
   "mimetype": "text/x-python",
   "name": "python",
   "nbconvert_exporter": "python",
   "pygments_lexer": "ipython3",
   "version": "3.8.3"
  }
 },
 "nbformat": 4,
 "nbformat_minor": 4
}
