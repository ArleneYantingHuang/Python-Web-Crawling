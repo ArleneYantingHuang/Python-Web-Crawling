{
 "cells": [
  {
   "cell_type": "code",
   "execution_count": 2,
   "metadata": {
    "ExecuteTime": {
     "end_time": "2020-12-27T18:03:41.073009Z",
     "start_time": "2020-12-27T18:03:41.068056Z"
    }
   },
   "outputs": [],
   "source": [
    "import json\n",
    "with open('/Users/arlenehuang/Desktop/result.json') as f:\n",
    "    data = json.load(f)"
   ]
  },
  {
   "cell_type": "code",
   "execution_count": 3,
   "metadata": {
    "ExecuteTime": {
     "end_time": "2020-12-27T18:03:45.761301Z",
     "start_time": "2020-12-27T18:03:45.739165Z"
    }
   },
   "outputs": [
    {
     "data": {
      "text/plain": [
       "[{'general': {'imgUrl': 'https://media-exp1.licdn.com/dms/image/C4E03AQFKMlvwPhqm5Q/profile-displayphoto-shrink_800_800/0/1516350215660?e=1614816000&v=beta&t=KaIUywR7xjwVSKmSTeL73rlUdL6Wii4SCbrU7WXo2Nw',\n",
       "   'fullName': 'Melanie Perkins',\n",
       "   'headline': 'Co-founder & CEO at Canva',\n",
       "   'company': 'Canva',\n",
       "   'school': 'University of Western Australia',\n",
       "   'location': 'Greater Sydney Area',\n",
       "   'connections': '500+ connections',\n",
       "   'profileUrl': 'https://www.linkedin.com/in/melanieperkins/',\n",
       "   'connectionsCount': 500,\n",
       "   'connectionDegree': '3rd',\n",
       "   'description': \"Melanie raised one of Australia’s largest early stage investment rounds as CEO of Canva, a disruptive online design and publishing tool. Canva has been growing rapidly since its launch in August 2013 and is now empowering millions of people across from every corner of the globe to create great designs and reach their goals, whether that's landing a job with a stylish resume, getting their business off the ground by creating great marketing materials or connecting with their community by designing great social media graphics.\\n\\nPreviously, Melanie founded her first company, Fusion Books, an online design system for schools to create their yearbooks. Fusion Books is now the largest yearbook publisher in Australia and recently expanded to France and New Zealand. \\n\\nOur team is growing like crazy and we're just getting started on our adventure. If you'd like to join us or just a little curious - check out our careers page: https://about.canva.com/careers/\\n\",\n",
       "   'firstName': 'Melanie',\n",
       "   'lastName': 'Perkins',\n",
       "   'vmid': 'ACoAAAH3mOgBdaXU-lNY1ADnOv_0QOHE1GUcYb0',\n",
       "   'linkedinSalesNavigatorUrl': 'https://www.linkedin.com/sales/people/ACoAAAH3mOgBdaXU-lNY1ADnOv_0QOHE1GUcYb0,name',\n",
       "   'mutualConnectionsUrl': 'https://www.linkedin.com/search/results/people/?facetNetwork=%5B%22F%22%5D&facetConnectionOf=%5B%22ACoAAAH3mOgBdaXU-lNY1ADnOv_0QOHE1GUcYb0%22%5D&origin=MEMBER_PROFILE_CANNED_SEARCH&RESULT_TYPE=PEOPLE',\n",
       "   'connectionsUrl': 'https://www.linkedin.com/search/results/people/?facetConnectionOf=%5B%22ACoAAAH3mOgBdaXU-lNY1ADnOv_0QOHE1GUcYb0%22%5D&facetNetwork=%5B%22F%22%2C%22S%22%5D&origin=MEMBER_PROFILE_CANNED_SEARCH',\n",
       "   'subscribers': 128625,\n",
       "   'backgroundUrl': 'https://media-exp1.licdn.com/dms/image/C5116AQG1UXhe2h0Kgw/profile-displaybackgroundimage-shrink_350_1400/0/1580950008334?e=1614816000&v=beta&t=4ZZEgnDTXWK31LHua564HGO1fpvokk2cRL0uia35GJ0',\n",
       "   'savedImg': 'https://phantombuster.s3.amazonaws.com/JleAWYCO4Zo/YSO5vJuDY0bBmOMiiKvNTw/melanieperkins.jpeg'},\n",
       "  'jobs': [{'companyName': 'Canva',\n",
       "    'companyUrl': 'https://www.linkedin.com/company/canva/',\n",
       "    'jobTitle': 'CEO & Co-founder',\n",
       "    'dateRange': 'May 2012 – Present',\n",
       "    'location': 'Sydney, Australia',\n",
       "    'description': \"Canva is a simple-to-use online design and publishing platform that allows everyone to create professional quality designs. With over 15 million users from 190 countries Canva has been growing rapidly since its launch in August 2012, however we're just getting started!\\n\\nFor more info see: www.canva.com\"},\n",
       "   {'companyName': 'Fusion Books',\n",
       "    'companyUrl': 'https://www.linkedin.com/company/fusion-books/',\n",
       "    'jobTitle': 'Founder and Director',\n",
       "    'dateRange': 'Jan 2007 – Present',\n",
       "    'location': 'Perth, Australia',\n",
       "    'description': 'Fusion Books is an innovative online publishing system which enables people to create stylish and professional yearbooks quickly and easily even if they have had no publishing experience. \\n\\nThe entire school, club or business can jump online and design photo pages, article pages and add their own profile. The yearbooks are then printed into a high-quality production which can be kept for generations as a special memento.'},\n",
       "   {'companyName': 'The University of Western Australia',\n",
       "    'companyUrl': 'https://www.linkedin.com/company/university-of-western-australia/',\n",
       "    'jobTitle': 'Multimedia Centre Technical Assistant and Tutor',\n",
       "    'dateRange': 'Feb 2006 – Oct 2007',\n",
       "    'location': None,\n",
       "    'description': 'Providing technical support and tuition to students, using software such as Adobe Photoshop, Adobe Flash and iMovie.'},\n",
       "   {'companyName': 'Weber Shandwick',\n",
       "    'companyUrl': 'https://www.linkedin.com/company/weber-shandwick/',\n",
       "    'jobTitle': 'Public Relations Internship',\n",
       "    'dateRange': 'Jun 2007 – Jul 2007',\n",
       "    'location': 'Sydney, Australia',\n",
       "    'description': None}],\n",
       "  'schools': [{'schoolUrl': 'https://www.linkedin.com/search/results/all/?keywords=University%20of%20Western%20Australia',\n",
       "    'schoolName': 'University of Western Australia',\n",
       "    'degreeSpec': 'Innovation Excellence Program (Commercializing Innovation)',\n",
       "    'dateRange': '2009 – 2009'},\n",
       "   {'schoolUrl': 'https://www.linkedin.com/search/results/all/?keywords=The%20University%20of%20Western%20Australia',\n",
       "    'schoolName': 'The University of Western Australia',\n",
       "    'degree': 'BA(Arts)/BA(Commerce)',\n",
       "    'degreeSpec': 'Communications, Pyschology, Marketing and Management',\n",
       "    'dateRange': '2005'}],\n",
       "  'details': {'linkedinProfile': 'https://www.linkedin.com/in/melanieperkins',\n",
       "   'websites': 'fusionbooks.com.au',\n",
       "   'twitter': 'MelanieCanva'},\n",
       "  'skills': [{'name': 'Entrepreneurship', 'endorsements': '99+'},\n",
       "   {'name': 'Start-ups', 'endorsements': '99+'},\n",
       "   {'name': 'Web Development', 'endorsements': '99+'},\n",
       "   {'name': 'User Interface Design', 'endorsements': '99+'},\n",
       "   {'name': 'Business Strategy', 'endorsements': '99+'},\n",
       "   {'name': 'Marketing', 'endorsements': '99+'},\n",
       "   {'name': 'Social Media Marketing', 'endorsements': '99+'},\n",
       "   {'name': 'Online Advertising', 'endorsements': '99+'},\n",
       "   {'name': 'Social Media', 'endorsements': '99+'},\n",
       "   {'name': 'SEO', 'endorsements': '99+'},\n",
       "   {'name': 'Digital Media', 'endorsements': '99+'},\n",
       "   {'name': 'Project Management', 'endorsements': '99+'},\n",
       "   {'name': 'User Experience', 'endorsements': '99+'},\n",
       "   {'name': 'Mobile Applications', 'endorsements': '99+'},\n",
       "   {'name': 'Mobile Devices', 'endorsements': '99+'},\n",
       "   {'name': 'Social Networking', 'endorsements': '96'},\n",
       "   {'name': 'Product Management', 'endorsements': '88'},\n",
       "   {'name': 'Product Development', 'endorsements': '86'},\n",
       "   {'name': 'Information Architecture', 'endorsements': '73'},\n",
       "   {'name': 'Web 2.0', 'endorsements': '73'}],\n",
       "  'allSkills': 'Entrepreneurship, Start-ups, Web Development, User Interface Design, Business Strategy, Marketing, Social Media Marketing, Online Advertising, Social Media, SEO, Digital Media, Project Management, User Experience, Mobile Applications, Mobile Devices, Social Networking, Product Management, Product Development, Information Architecture, Web 2.0',\n",
       "  'interests': {'companies': [{'url': 'https://www.linkedin.com/company/university-of-western-australia/',\n",
       "     'name': 'The University of Western Australia',\n",
       "     'count': 139731},\n",
       "    {'url': 'https://www.linkedin.com/company/fusion-books/',\n",
       "     'name': 'Fusion Books',\n",
       "     'count': 938},\n",
       "    {'url': 'https://www.linkedin.com/company/canva/',\n",
       "     'name': 'Canva',\n",
       "     'count': 126400},\n",
       "    {'url': 'https://www.linkedin.com/company/wyzerdigital/',\n",
       "     'name': 'WyzerDigital',\n",
       "     'count': 187},\n",
       "    {'url': 'https://www.linkedin.com/company/barayamal/',\n",
       "     'name': 'Barayamal',\n",
       "     'count': 5723},\n",
       "    {'url': 'https://www.linkedin.com/company/autoklose/',\n",
       "     'name': 'Autoklose – a VanillaSoft company',\n",
       "     'count': 12343},\n",
       "    {'url': 'https://www.linkedin.com/company/bob-online/',\n",
       "     'name': \"BOB | Best Of Business | Melbourne's West\",\n",
       "     'count': 1587}],\n",
       "   'groups': [{'url': 'https://www.linkedin.com/groups/2760739/',\n",
       "     'name': 'CMO Insight',\n",
       "     'count': 4798},\n",
       "    {'url': 'https://www.linkedin.com/groups/4633851/',\n",
       "     'name': '*Make Every Moment Count*',\n",
       "     'count': 1492},\n",
       "    {'url': 'https://www.linkedin.com/groups/2195456/',\n",
       "     'name': 'Stock photography production companies',\n",
       "     'count': 2354},\n",
       "    {'url': 'https://www.linkedin.com/groups/3983956/',\n",
       "     'name': 'MicrostockExpo',\n",
       "     'count': 37},\n",
       "    {'url': 'https://www.linkedin.com/groups/2071438/',\n",
       "     'name': 'CSS3 / HTML5 The future of front end',\n",
       "     'count': 59354},\n",
       "    {'url': 'https://www.linkedin.com/groups/104765/',\n",
       "     'name': 'Book Industry Study Group',\n",
       "     'count': 21864},\n",
       "    {'url': 'https://www.linkedin.com/groups/3007928/',\n",
       "     'name': 'HTML5 Professionals',\n",
       "     'count': 9252},\n",
       "    {'url': 'https://www.linkedin.com/groups/3877009/',\n",
       "     'name': 'ePub3 and HTML5',\n",
       "     'count': 2462},\n",
       "    {'url': 'https://www.linkedin.com/groups/2868882/',\n",
       "     'name': 'HTML5 Technologies',\n",
       "     'count': 23829}],\n",
       "   'schools': [{'url': 'https://www.linkedin.com/school/10239/?legacySchoolId=10239',\n",
       "     'name': 'The University of Western Australia',\n",
       "     'count': 139731}]},\n",
       "  'query': 'https://www.linkedin.com/in/melanieperkins/',\n",
       "  'timestamp': '2020-12-27T17:58:47.664Z'}]"
      ]
     },
     "execution_count": 3,
     "metadata": {},
     "output_type": "execute_result"
    }
   ],
   "source": [
    "data"
   ]
  },
  {
   "cell_type": "code",
   "execution_count": null,
   "metadata": {},
   "outputs": [],
   "source": []
  },
  {
   "cell_type": "code",
   "execution_count": null,
   "metadata": {},
   "outputs": [],
   "source": []
  },
  {
   "cell_type": "code",
   "execution_count": null,
   "metadata": {},
   "outputs": [],
   "source": []
  },
  {
   "cell_type": "code",
   "execution_count": null,
   "metadata": {},
   "outputs": [],
   "source": []
  },
  {
   "cell_type": "code",
   "execution_count": null,
   "metadata": {},
   "outputs": [],
   "source": []
  },
  {
   "cell_type": "code",
   "execution_count": null,
   "metadata": {},
   "outputs": [],
   "source": []
  },
  {
   "cell_type": "code",
   "execution_count": null,
   "metadata": {},
   "outputs": [],
   "source": []
  }
 ],
 "metadata": {
  "kernelspec": {
   "display_name": "Python 3",
   "language": "python",
   "name": "python3"
  },
  "language_info": {
   "codemirror_mode": {
    "name": "ipython",
    "version": 3
   },
   "file_extension": ".py",
   "mimetype": "text/x-python",
   "name": "python",
   "nbconvert_exporter": "python",
   "pygments_lexer": "ipython3",
   "version": "3.8.3"
  }
 },
 "nbformat": 4,
 "nbformat_minor": 4
}
