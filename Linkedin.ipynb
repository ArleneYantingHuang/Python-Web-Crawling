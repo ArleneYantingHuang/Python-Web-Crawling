{
 "cells": [
  {
   "cell_type": "code",
   "execution_count": 1,
   "metadata": {
    "ExecuteTime": {
     "end_time": "2021-02-04T20:32:50.340892Z",
     "start_time": "2021-02-04T20:32:50.241454Z"
    }
   },
   "outputs": [],
   "source": [
    "import requests\n",
    "import string\n",
    "import random"
   ]
  },
  {
   "cell_type": "code",
   "execution_count": 10,
   "metadata": {
    "ExecuteTime": {
     "end_time": "2021-02-04T21:32:36.198436Z",
     "start_time": "2021-02-04T21:32:35.735219Z"
    }
   },
   "outputs": [
    {
     "name": "stdout",
     "output_type": "stream",
     "text": [
      "https://www.linkedin.com/uas/login?session_redirect=%2Foauth%2Fv2%2Flogin-success%3Fapp_id%3D53357663%26auth_type%3DAC%26flow%3D%257B%2522creationTime%2522%253A1612474356013%252C%2522state%2522%253A%2522cpaczsrnugnvybpxzysurcri%2522%252C%2522scope%2522%253A%2522r_liteprofile%2Br_emailaddress%2Bw_member_social%2522%252C%2522appId%2522%253A53357663%252C%2522authorizationType%2522%253A%2522OAUTH2_AUTHORIZATION_CODE%2522%252C%2522redirectUri%2522%253A%2522https%253A%252F%252Fexample.com%252Fauth%252Flinkedin%252Fcallback%2522%252C%2522currentStage%2522%253A%2522LOGIN_SUCCESS%2522%252C%2522currentSubStage%2522%253A0%252C%2522authFlowName%2522%253A%2522generic-permission-list%2522%257D&fromSignIn=1&trk=oauth&cancel_redirect=%2Foauth%2Fv2%2Flogin-cancel%3Fapp_id%3D53357663%26auth_type%3DAC%26flow%3D%257B%2522creationTime%2522%253A1612474356013%252C%2522state%2522%253A%2522cpaczsrnugnvybpxzysurcri%2522%252C%2522scope%2522%253A%2522r_liteprofile%2Br_emailaddress%2Bw_member_social%2522%252C%2522appId%2522%253A53357663%252C%2522authorizationType%2522%253A%2522OAUTH2_AUTHORIZATION_CODE%2522%252C%2522redirectUri%2522%253A%2522https%253A%252F%252Fexample.com%252Fauth%252Flinkedin%252Fcallback%2522%252C%2522currentStage%2522%253A%2522LOGIN_SUCCESS%2522%252C%2522currentSubStage%2522%253A0%252C%2522authFlowName%2522%253A%2522generic-permission-list%2522%257D\n"
     ]
    }
   ],
   "source": [
    "# Copy the client ID, secret, and redirect URI in the fields below\n",
    "CLIENT_ID    = '7759a4xjinacur'\n",
    "CLIENT_SECRET = 'mmM7HsQ3irnyeQ7b'\n",
    "REDIRECT_URI = 'https://example.com/auth/linkedin/callback'\n",
    "\n",
    "# Generate a random string to protect against cross-site request forgery\n",
    "letters = string.ascii_lowercase\n",
    "CSRF_TOKEN = ''.join(random.choice(letters) for i in range(24))\n",
    "\n",
    "\n",
    "# Request authentication URL\n",
    "auth_params = {'response_type': 'code',\n",
    "               'client_id': CLIENT_ID,\n",
    "               'redirect_uri': REDIRECT_URI,\n",
    "               'state': CSRF_TOKEN,\n",
    "               'scope': 'r_liteprofile r_emailaddress w_member_social'}\n",
    "\n",
    "html = requests.get(\"https://www.linkedin.com/oauth/v2/authorization\",\n",
    "                    params = auth_params)\n",
    "\n",
    "# Print the link to the approval page\n",
    "print(html.url)\n",
    "\n",
    "# Click the link below to be taken to your redirect page."
   ]
  },
  {
   "cell_type": "code",
   "execution_count": 11,
   "metadata": {
    "ExecuteTime": {
     "end_time": "2021-02-04T21:34:17.161065Z",
     "start_time": "2021-02-04T21:34:16.832733Z"
    }
   },
   "outputs": [
    {
     "name": "stdout",
     "output_type": "stream",
     "text": [
      "Access Token: AQWU90-kIB9pFDdO0i_jK0nJWZHLZnrw1i0xGPFePKulJonilaRhSY4JwGNm6JveZ81enFIwrllEjeuyEolbKbS3jF3_GSUi4mSMKOjfSAuU5syfIW9kcZYsgGQAWFBuO77cFD5eq3VGFTh9KlaLogPLXy-2lv5LObDJnnB7WA7A800SN7RyMnR035pgZ1Z5xjNQ3eIZiszQCRgWxh6QqOMcWnqBCRB64zbEJ4_67pPXhElTdlB0Y__v9fpcFepw-kb937E2V0Mow1bkRgBs5xwKkBqFHn3dwso_zE1aAo0Do6k68sWFsZW8_vL7EiVM4AxBXwW5Ewva6COVC3Ah7VS94tpmSg\n",
      "Expires in (seconds): 5183999\n"
     ]
    }
   ],
   "source": [
    "AUTH_CODE ='AQT8_tHn83A1vFFgHxZo87lk-C3Tz2seYkrYjZxNUt3gLocX0rT_djnIMP1IXcl0M_YIHMVj04HOCz2mc4ceAzjf5piYlNb1RIguBTE1gQAdad0ZaEfY_ikV5cTY3Zw5ADIn6rjmxJAFe2L98eeNY36nyVAVeVUmzjNuwmnA0KXCQDSEkHkZGeNCgIkZfQ'\n",
    "\n",
    "ACCESS_TOKEN_URL = 'https://www.linkedin.com/oauth/v2/accessToken'\n",
    "\n",
    "qd = {'grant_type': 'authorization_code',\n",
    "      'code': AUTH_CODE,\n",
    "      'redirect_uri': REDIRECT_URI,\n",
    "      'client_id': CLIENT_ID,\n",
    "      'client_secret': CLIENT_SECRET}\n",
    "\n",
    "response = requests.post(ACCESS_TOKEN_URL, data=qd, timeout=60)\n",
    "\n",
    "response = response.json()\n",
    "\n",
    "access_token = response['access_token']\n",
    "\n",
    "print(\"Access Token:\", access_token)\n",
    "print(\"Expires in (seconds):\", response['expires_in'])"
   ]
  },
  {
   "cell_type": "code",
   "execution_count": 12,
   "metadata": {
    "ExecuteTime": {
     "end_time": "2021-02-04T21:34:50.232667Z",
     "start_time": "2021-02-04T21:34:49.928333Z"
    }
   },
   "outputs": [
    {
     "name": "stdout",
     "output_type": "stream",
     "text": [
      "{\n",
      " \"localizedLastName\": \"Huang\",\n",
      " \"profilePicture\": {\n",
      "  \"displayImage\": \"urn:li:digitalmediaAsset:C5103AQGdmz6eEBj6nQ\"\n",
      " },\n",
      " \"firstName\": {\n",
      "  \"localized\": {\n",
      "   \"zh_CN\": \"Arlene Yanting\"\n",
      "  },\n",
      "  \"preferredLocale\": {\n",
      "   \"country\": \"CN\",\n",
      "   \"language\": \"zh\"\n",
      "  }\n",
      " },\n",
      " \"lastName\": {\n",
      "  \"localized\": {\n",
      "   \"zh_CN\": \"Huang\"\n",
      "  },\n",
      "  \"preferredLocale\": {\n",
      "   \"country\": \"CN\",\n",
      "   \"language\": \"zh\"\n",
      "  }\n",
      " },\n",
      " \"id\": \"Ij7ExpwoH5\",\n",
      " \"localizedFirstName\": \"Arlene Yanting\"\n",
      "}\n"
     ]
    }
   ],
   "source": [
    "import json\n",
    "\n",
    "params = {'oauth2_access_token': access_token}\n",
    "response = requests.get('https://api.linkedin.com/v2/me', params = params)\n",
    "\n",
    "print(json.dumps(response.json(), indent=1))"
   ]
  },
  {
   "cell_type": "code",
   "execution_count": 13,
   "metadata": {
    "ExecuteTime": {
     "end_time": "2021-02-04T21:35:37.311417Z",
     "start_time": "2021-02-04T21:35:37.081432Z"
    }
   },
   "outputs": [
    {
     "name": "stdout",
     "output_type": "stream",
     "text": [
      "{\n",
      " \"lastName\": {\n",
      "  \"preferredLocale\": {\n",
      "   \"country\": \"CN\",\n",
      "   \"language\": \"zh\"\n",
      "  }\n",
      " }\n",
      "}\n"
     ]
    }
   ],
   "source": [
    "params = {'oauth2_access_token': access_token,\n",
    "          'fields': ['lastName:(preferredLocale:(country,language))']}\n",
    "response = requests.get('https://api.linkedin.com/v2/me', params = params)\n",
    "\n",
    "print(json.dumps(response.json(), indent=1))"
   ]
  },
  {
   "cell_type": "code",
   "execution_count": null,
   "metadata": {},
   "outputs": [],
   "source": []
  },
  {
   "cell_type": "code",
   "execution_count": null,
   "metadata": {},
   "outputs": [],
   "source": []
  },
  {
   "cell_type": "code",
   "execution_count": null,
   "metadata": {},
   "outputs": [],
   "source": []
  },
  {
   "cell_type": "code",
   "execution_count": null,
   "metadata": {},
   "outputs": [],
   "source": []
  }
 ],
 "metadata": {
  "kernelspec": {
   "display_name": "Python 3",
   "language": "python",
   "name": "python3"
  },
  "language_info": {
   "codemirror_mode": {
    "name": "ipython",
    "version": 3
   },
   "file_extension": ".py",
   "mimetype": "text/x-python",
   "name": "python",
   "nbconvert_exporter": "python",
   "pygments_lexer": "ipython3",
   "version": "3.8.3"
  }
 },
 "nbformat": 4,
 "nbformat_minor": 4
}
