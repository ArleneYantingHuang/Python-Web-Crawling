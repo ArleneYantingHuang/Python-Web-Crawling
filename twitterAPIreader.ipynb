{
 "cells": [
  {
   "cell_type": "markdown",
   "metadata": {
    "ExecuteTime": {
     "end_time": "2020-12-30T00:02:07.974282Z",
     "start_time": "2020-12-30T00:02:07.968408Z"
    }
   },
   "source": [
    "# Reader"
   ]
  },
  {
   "cell_type": "code",
   "execution_count": 1,
   "metadata": {
    "ExecuteTime": {
     "end_time": "2021-01-25T00:29:28.824650Z",
     "start_time": "2021-01-25T00:29:28.804406Z"
    }
   },
   "outputs": [],
   "source": [
    "def twitterAPIreader(jsonaddress):\n",
    "    import json\n",
    "    import pandas as pd\n",
    "    \n",
    "    with open(jsonaddress) as f:\n",
    "        data = json.load(f)\n",
    "\n",
    "    df = pd.DataFrame(columns=['username','name','id','location','create_at','follower_count','tweet_count','description'])\n",
    "    \n",
    "    for i, line in enumerate(data['data']):\n",
    "        data = [line.get('username', ''),\n",
    "        line.get('name', ''),\n",
    "        line.get('id', ''),\n",
    "        line.get('location', ''),\n",
    "        line.get('created_at', ''),\n",
    "        line.get('public_metrics', '').get('followers_count',''),\n",
    "        line.get('public_metrics', '').get('tweet_count',''),\n",
    "        line.get('description', '')]\n",
    "        df.loc[i] = data\n",
    "    \n",
    "    csvaddress = jsonaddress[0:-4]+\"csv\"\n",
    "    df.to_csv(csvaddress)\n"
   ]
  },
  {
   "cell_type": "code",
   "execution_count": 4,
   "metadata": {
    "ExecuteTime": {
     "end_time": "2021-01-25T00:30:19.759734Z",
     "start_time": "2021-01-25T00:30:19.601935Z"
    }
   },
   "outputs": [],
   "source": [
    "#apply the reader\n",
    "filename = 'json.json' #change the file name and run\n",
    "address = '/Users/arlenehuang/Desktop/'+filename\n",
    "twitterAPIreader(address)"
   ]
  },
  {
   "cell_type": "code",
   "execution_count": null,
   "metadata": {},
   "outputs": [],
   "source": []
  },
  {
   "cell_type": "code",
   "execution_count": null,
   "metadata": {},
   "outputs": [],
   "source": []
  },
  {
   "cell_type": "code",
   "execution_count": null,
   "metadata": {},
   "outputs": [],
   "source": []
  },
  {
   "cell_type": "code",
   "execution_count": 137,
   "metadata": {
    "ExecuteTime": {
     "end_time": "2020-12-30T04:09:27.162326Z",
     "start_time": "2020-12-30T04:09:26.506639Z"
    },
    "code_folding": []
   },
   "outputs": [
    {
     "name": "stdout",
     "output_type": "stream",
     "text": [
      "10 Christian Guttmann\n",
      "14 Andreas Greilhuber\n",
      "33 Jean Todt\n",
      "35 USAC Racing\n",
      "36 Justin Grant\n",
      "38 Brady Bacon\n",
      "40 Chris Windom\n",
      "52 Dacia UK\n",
      "59 Downtown OKC\n",
      "62 BioTech Mag\n",
      "63 Andy Biotech\n",
      "74 Bursatil Biotech\n",
      "75 Ron Leuty\n",
      "76 Alfredo Fontanini\n",
      "77 James Taylor\n",
      "81 Ruby Gadelrab\n",
      "85 OneThree Biotech\n",
      "87 Ag Biotech\n",
      "91 Biotech Jim\n",
      "101 Simon Taylor\n",
      "120 Al Leong\n",
      "123 Aurora Cannabis\n",
      "151 Alan Brochstein CFA\n",
      "159 Amit Goel\n",
      "165 Acorns\n",
      "187 Gobierno CDMX\n",
      "188 ©xico\n",
      "198 David Gilford\n",
      "207 Kamal Pant IPS\n",
      "213 Maggie Berry\n",
      "220 Elinor Cohen\n",
      "225 Paula Piccard üáµüá∑\n",
      "227 Thomas Schulz\n",
      "227 VC\n",
      "228 Kim Muro\n",
      "230 Jennifer Darkazalli\n",
      "232 Tandon\n",
      "235 Manisha\n",
      "236 Sprinklr\n",
      "237 Linda Grasso\n",
      "238 Zara Kay\n",
      "239 Faithless Hijabi\n",
      "248 QU Dongyu\n",
      "255 AgricultureMuseum\n",
      "263 Indigo Ag\n",
      "269 Hussien Oba\n",
      "271 Resources\n"
     ]
    }
   ],
   "source": [
    "import spacy\n",
    "\n",
    "nlp = spacy.load(\"en_core_web_sm\")\n",
    "str = \"name, Ai4 - Artificial Intelligence Conferences, Radiology: Artificial Intelligence, RSNA, Digital Supply Chain - Artificial Intelligence, Artificial Intelligence, WSJ Pro Artificial Intelligence, Army Artificial Intelligence (AI) Task Force, Nordic AI Artificial Intelligence Institute, Christian Guttmann, AIIDE Conference, Allen Institute for AI, Artificial Intelligence, Andreas Greilhuber, MBZUAI, Joint Artificial Intelligence Center, Diversity in Artificial Intelligence @ IJCAI 2020, AAAI, ICLR 2021, CVPR, ACL-IJCNLP 2021, ICML Conference, NeurIPS Conference, IJCAIconf, DFKI, Facebook AI, Ars Electronica, Office for Artificial Intelligence, Stanford HAI, MIRI, Artificial Intelligence, FIA, Jean Todt, GIMS Swiss, USAC Racing, Justin Grant üá∫üá∏, AMSOIL INC, Brady Bacon, NOS Energy Drink, Chris Windom, Automobile Club MC, Los Angeles Auto Show, ARCA Menards Series, AAA, USAA, Automobile Magazine, HONGQI, F1 Australian Grand Prix, Grand Prix de France F1, Dodge, New York Auto Show, Dacia UK, SingaporeGP, RACQ, UAW, Honda Automobile Customer Service, Kantanka Automobile, Automobile Alley, Downtown OKC, Automobile Association of Kenya, NADA, BioTech Mag, Andy Biotech, Nature Biotechnology, I Am Biotech, BharatBiotech, TheBiotechLand, Biotech World, FierceBiotech, Biotech Day, ConnectBiotech.org, BiotechBlog, NCBiotech #NCLifeSciences, Bursatil Biotech, Ron Leuty, Alfredo Fontanini, James Taylor, Biotech HacküéÑõÑüéÖü¶åüéÑ, BiotechIndia, Sage Therapeutics, Ruby Gadelrab, The Biotech Forum, Tri-I Biotech Club, AG_Macrohedge, OneThree Biotech, BREYANZI ;), Ag Biotech, GRO-Biotech, California Biotech, Rafts4Biotech, Biotech Jim, Blockchain.com, Blockchain.com Support, Blockchain Capital, PitchBook Data, IBM Blockchain, BEN, CNN_Blockchain, Bird oN Blockchain, Neo Smart Economy, Simon Taylor, Blockchain Review, Blockchain Review, LA Blockchain Summit, Blockchain Backer, Blockchain.com Support, Blockchain.com, Blockchain News, DATA($DTA), CryptoKitties, NBA Top Shot, Blockchain.com Support, BYTOM BLOCKCHAIN, Credits Blockchain Platform, Credits Blockchain Platform, √¶ternity blockchain, Phore Blockchain, Rowan Energy Blockchain, Lition Blockchain, Al Leong Blockchain DeFi Fintech Marketing Advisor, XinFin(XDC) Hybrid Blockchain Network, National Cannabis Industry Association, Aurora Cannabis, Cannabis Culture, Cannabis News Net, New Culture üëë, Cannabis Biz Times, Cannabis Seeds, Cannabis Now, UNION Cannabis Co.Ñ¢Ô∏è, Cannabis Connect, Weedmaps, iBUYPOWER, Medical Marijuana Cannabis Hemp CBD, Cannin Your Cannabis and Hemp Stock Resource, Inside Cannabis, Inside, Cannabis Directory, ùêÄùê¶ùêûùê•ùê¢ùêö üßöüèªÄçôÄÔ∏èüî•, HeadCount, Marijuana Cannabis, Cannabis News üì∞, Budweiser, Cannabis Saint, Cannabis Council of Canada, Cannabis, The Cannabis Times, PNW Cannabis Club, Ganjly Reliable Cannabis News, Sudbury's Cannabis Substitution Program, Alan Brochstein CFA, LendIt Fintech, üîõ Enrico Molinari #FinTech üáÆüáπüá™üá∫üá∫üá∏ #CES2021, HPE, BNP Paribas Group, FinTech Lab, FinTech Lab, Fintech Finance | Fintech News, Amit Goel | #Founder #FinTech, Apollo Fintech, FINTECH Circle, ŸÅŸÜÿ™ŸÉ ÿßŸÑÿ≥ÿπŸàÿØŸäÿ©, FinTech Futures, Fintech Insider Podcast, Acorns, The FinTech 50, FinTech Innovation Lab London, FinTech London, Digital Transformation by FINTECH Circle, FINTECH Circle, Sbootcamp FinTech, Startupbootcamp, Dataconomy, Paris Fintech Forum, Sbootcamp FinTech, NYU Stern, Ant Group, Alipay, FINTECH Circle, Fintech Singapore, Fintech Switzerland, World SmartCity, IEC, ISO, ITU, 100RC (LEGACY), Gobierno CDMX, ONU M√©xico, üåçManuel, World Federation of Science Journalists, ENI CBC Med üá™üá∫üåç, London Air, LDNMayor Environment, üåçManuel, #EUGreenDeal each @GreenWeek üåç, World Federation of Science Journalists, Smart City, David Gilford, Intersection, NYCEDC, MDPI, SmartCities LAB, Smart City Faridabad, IoT Evolution 2021 New Dates! June 22-25 #Miami, fcharles ü¶ä, M N Reddi IPS DGP ( Rtd ), Kamal Pant IPS, M.N.Reddi IPS, Stephanie Atkinson #IoT #smartcities #mobile #B2B, Compass Intelligence, Mind Commerce üìäüì±üñ•Ô∏èòÅÔ∏è, Women in Technology, Maggie Berry, WomeninTech, Jen Stirrup #Leadership #WomenInTech #Diversity, Valley Girls - #WomeninTech, Dhruva üè°üíô #WomenInTech, Codemagic, Women In Tech Belfast, Elinor Cohen üôÇ #WomenInTech, Women in Tech_CIT, Contracts IT, Naheed Afzal, Wonder Women Tech, Paula Piccard üáµüá∑ üá∫üá∏, #bottish association, Thomas Schulz üí∏ #nocode #VC, Kim Muro, Women in Technology, Jennifer Darkazalli, IBM, NYU Tandon, Infosys, CDW Corporation, Manisha, Sprinklr, Linda Grasso, Zara Kay üá´üá∑, Faithless Hijabi, PepUp TechòÅÔ∏è, Hana, Purdue Agriculture, Dept. of Agriculture, Calif Food and Ag, AAFC Canada, MN Agriculture Dept, FAO, FAO Director-General QU Dongyu, EU Agricultureüå±, Texas Agriculture, NCDA&CS, Maryland Agriculture, PA Department of Agriculture, MI Ag & Rural Dev, #AgricultureMuseum, FAO e-Agriculture, WBG Agriculture, AGRA - Growing Africa's Agriculture, POLITICO Pro, Global Agriculture & Food Security Program, JKUAT, OECD û°Ô∏è Better policies for better lives, Indigo Ag, NIFA, Australian Government Agriculture and Water, envirogov, AGRI Committee Press, Cornell CALS, Oumer Hussien Oba, DAERA, Ag&Natural Resources, \"\n",
    "doc = nlp(str)\n",
    "\n",
    "for i, ent in enumerate(doc.ents):\n",
    "    if ent.label_ == \"PERSON\":\n",
    "        print(str[0:ent.end_char].count(','),ent.text)\n",
    "        "
   ]
  },
  {
   "cell_type": "code",
   "execution_count": 136,
   "metadata": {
    "ExecuteTime": {
     "end_time": "2020-12-30T04:08:51.897968Z",
     "start_time": "2020-12-30T04:08:51.893209Z"
    }
   },
   "outputs": [
    {
     "data": {
      "text/plain": [
       "271"
      ]
     },
     "execution_count": 136,
     "metadata": {},
     "output_type": "execute_result"
    }
   ],
   "source": [
    "str.count(\",\")"
   ]
  },
  {
   "cell_type": "code",
   "execution_count": null,
   "metadata": {},
   "outputs": [],
   "source": []
  },
  {
   "cell_type": "code",
   "execution_count": null,
   "metadata": {},
   "outputs": [],
   "source": []
  },
  {
   "cell_type": "markdown",
   "metadata": {
    "heading_collapsed": true
   },
   "source": [
    "# raw code"
   ]
  },
  {
   "cell_type": "code",
   "execution_count": null,
   "metadata": {
    "hidden": true
   },
   "outputs": [],
   "source": [
    "import json\n",
    "with open('/Users/arlenehuang/OneDrive - Columbia University/Internships/Silicon Valley Podcast/twitterAPIdata/Tbiotech31.json') as f:\n",
    "    data = json.load(f)"
   ]
  },
  {
   "cell_type": "code",
   "execution_count": 64,
   "metadata": {
    "ExecuteTime": {
     "end_time": "2020-12-29T23:48:28.273320Z",
     "start_time": "2020-12-29T23:48:28.258280Z"
    },
    "hidden": true,
    "scrolled": true
   },
   "outputs": [
    {
     "data": {
      "text/html": [
       "<div>\n",
       "<style scoped>\n",
       "    .dataframe tbody tr th:only-of-type {\n",
       "        vertical-align: middle;\n",
       "    }\n",
       "\n",
       "    .dataframe tbody tr th {\n",
       "        vertical-align: top;\n",
       "    }\n",
       "\n",
       "    .dataframe thead th {\n",
       "        text-align: right;\n",
       "    }\n",
       "</style>\n",
       "<table border=\"1\" class=\"dataframe\">\n",
       "  <thead>\n",
       "    <tr style=\"text-align: right;\">\n",
       "      <th></th>\n",
       "      <th>username</th>\n",
       "      <th>name</th>\n",
       "      <th>id</th>\n",
       "      <th>location</th>\n",
       "      <th>create_at</th>\n",
       "      <th>follower_count</th>\n",
       "      <th>tweet_count</th>\n",
       "      <th>description</th>\n",
       "    </tr>\n",
       "  </thead>\n",
       "  <tbody>\n",
       "  </tbody>\n",
       "</table>\n",
       "</div>"
      ],
      "text/plain": [
       "Empty DataFrame\n",
       "Columns: [username, name, id, location, create_at, follower_count, tweet_count, description]\n",
       "Index: []"
      ]
     },
     "execution_count": 64,
     "metadata": {},
     "output_type": "execute_result"
    }
   ],
   "source": [
    "import pandas as pd\n",
    "df = pd.DataFrame(columns=['username','name','id','location','create_at','follower_count','tweet_count','description'])\n",
    "df\n"
   ]
  },
  {
   "cell_type": "code",
   "execution_count": 65,
   "metadata": {
    "ExecuteTime": {
     "end_time": "2020-12-29T23:48:29.226225Z",
     "start_time": "2020-12-29T23:48:29.098152Z"
    },
    "hidden": true
   },
   "outputs": [],
   "source": [
    "for i, line in enumerate(data['data']):\n",
    "    data = [line.get('username', ''),\n",
    "    line.get('name', ''),\n",
    "    line.get('id', ''),\n",
    "    line.get('location', ''),\n",
    "    line.get('created_at', ''),\n",
    "    line.get('public_metrics', '').get('followers_count',''),\n",
    "    line.get('public_metrics', '').get('tweet_count',''),\n",
    "    line.get('description', '')]\n",
    "    df.loc[i] = data"
   ]
  },
  {
   "cell_type": "code",
   "execution_count": 67,
   "metadata": {
    "ExecuteTime": {
     "end_time": "2020-12-29T23:49:40.627406Z",
     "start_time": "2020-12-29T23:49:40.612417Z"
    },
    "hidden": true
   },
   "outputs": [],
   "source": [
    "df.to_csv('/Users/arlenehuang/OneDrive - Columbia University/Internships/Silicon Valley Podcast/twitterAPIdata/Tbiotech31.csv')"
   ]
  },
  {
   "cell_type": "code",
   "execution_count": null,
   "metadata": {
    "hidden": true
   },
   "outputs": [],
   "source": []
  },
  {
   "cell_type": "code",
   "execution_count": null,
   "metadata": {
    "hidden": true
   },
   "outputs": [],
   "source": []
  },
  {
   "cell_type": "code",
   "execution_count": null,
   "metadata": {
    "hidden": true
   },
   "outputs": [],
   "source": []
  },
  {
   "cell_type": "code",
   "execution_count": null,
   "metadata": {
    "hidden": true
   },
   "outputs": [],
   "source": []
  },
  {
   "cell_type": "code",
   "execution_count": null,
   "metadata": {
    "hidden": true
   },
   "outputs": [],
   "source": []
  },
  {
   "cell_type": "code",
   "execution_count": 88,
   "metadata": {
    "ExecuteTime": {
     "end_time": "2020-12-30T00:02:17.250947Z",
     "start_time": "2020-12-30T00:02:17.240800Z"
    },
    "hidden": true
   },
   "outputs": [],
   "source": [
    "def twitterAPIreader(jsonaddress):\n",
    "    import json\n",
    "    import pandas as pd\n",
    "    \n",
    "    with open(jsonaddress) as f:\n",
    "        data = json.load(f)\n",
    "\n",
    "    df = pd.DataFrame(columns=['username','name','id','location','create_at','follower_count','tweet_count','description'])\n",
    "    \n",
    "    for i, line in enumerate(data['data']):\n",
    "        data = [line.get('username', ''),\n",
    "        line.get('name', ''),\n",
    "        line.get('id', ''),\n",
    "        line.get('location', ''),\n",
    "        line.get('created_at', ''),\n",
    "        line.get('public_metrics', '').get('followers_count',''),\n",
    "        line.get('public_metrics', '').get('tweet_count',''),\n",
    "        line.get('description', '')]\n",
    "        df.loc[i] = data\n",
    "    \n",
    "    csvaddress = jsonaddress[0:-4]+\"csv\"\n",
    "    df.to_csv(csvaddress)\n"
   ]
  },
  {
   "cell_type": "code",
   "execution_count": 89,
   "metadata": {
    "ExecuteTime": {
     "end_time": "2020-12-30T00:02:20.173487Z",
     "start_time": "2020-12-30T00:02:20.025277Z"
    },
    "hidden": true
   },
   "outputs": [],
   "source": []
  },
  {
   "cell_type": "code",
   "execution_count": null,
   "metadata": {
    "hidden": true
   },
   "outputs": [],
   "source": []
  }
 ],
 "metadata": {
  "kernelspec": {
   "display_name": "Python 3",
   "language": "python",
   "name": "python3"
  },
  "language_info": {
   "codemirror_mode": {
    "name": "ipython",
    "version": 3
   },
   "file_extension": ".py",
   "mimetype": "text/x-python",
   "name": "python",
   "nbconvert_exporter": "python",
   "pygments_lexer": "ipython3",
   "version": "3.8.3"
  }
 },
 "nbformat": 4,
 "nbformat_minor": 4
}
